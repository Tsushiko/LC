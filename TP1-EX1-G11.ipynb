{
 "cells": [
  {
   "cell_type": "markdown",
   "id": "f3a4d47b",
   "metadata": {},
   "source": [
    "# **TP1 - Exercicio 1- Grupo 11**\n",
    "\n",
    "Bruno Miguel Fernandes Araújo - A97509\n",
    "\n",
    "Tiago Emanuel Lemos Teixeira - A97666"
   ]
  },
  {
   "cell_type": "markdown",
   "id": "d8a7bf9a",
   "metadata": {},
   "source": [
    "\n",
    "1. Pretende-se construir o horário semanal de aulas de uma turma.\n",
    "    1. Existe um conjunto de salas $S$ classificadas em “grandes” e “pequenas”.\n",
    "    2. O tempo do horário está organizado em “slots” de uma hora. O total do tempo disponível é 5 horas de manhã e 5 horas às tarde.\n",
    "    3. Existe um conjunto $D\\,$ de disciplinas.  Cada disciplina tem um atributo $dur\\in\\{1,2\\}$ que classifica a duração de cada sessão (um ou dois “slots”) , um atributo $a\\in\\{2,3\\}$ que define o número de sessões semanais e um atributo $\\,tam\\in\\{0,1\\}\\,$ que diz se a sessão necessita de uma sala grande ou não.\n",
    "     d. Existe um conjunto $P$ de professores. Cada professor tem associado um conjunto  $h$ das disciplinas que está habilitado a lecionar.\n",
    "     e. O horário está organizado em sessões concorrentes onde cada sessão é definido por uma disciplina desce que salas e professores verifiquem as seguintes restrições.\n",
    "        1. Para cada disciplina todas as aulas decorrem na mesma sala e com o mesmo professor.\n",
    "        2. O número total de horas lecionadas por cada professor está num intervalo de $\\pm 20\\%\\,$do número médio de horas lecionadas pela totalidade dos professores.\n",
    "        3. Nenhuma sala pode ser ocupada simultaneamente por mais do que uma aula e nenhum professor pode lecionar simultaneamente mais do que uma aula.\n",
    "        4. Em cada disciplina, cada aula é lecionada por um professor habilitado para essa disciplina e ocorre numa sala de tamanho apropriado à disciplina."
   ]
  },
  {
   "cell_type": "markdown",
   "id": "c74a0ffb",
   "metadata": {},
   "source": [
    "# **Criação de matrizes**\n",
    "Criamos de um solver chamado **horario** e 4 matrizes:\n",
    "\n",
    "**X**: Matriz de alocação\n",
    "\n",
    "**SD**: Matriz Salas x Disciplinas\n",
    "\n",
    "**PD**: Matriz Professores x Disciplinas\n",
    "\n",
    "**SL**: Matriz Slots x Disciplinas que será utilizada para a otimização do problema"
   ]
  },
  {
   "cell_type": "code",
   "execution_count": 5,
   "id": "55b3ef93",
   "metadata": {},
   "outputs": [],
   "source": [
    "from ortools.linear_solver import pywraplp\n",
    "\n",
    "# Create the LP solver with the SCIP backend.\n",
    "\n",
    "horario = pywraplp.Solver.CreateSolver(\"SCIP\")\n",
    "error  = pywraplp.Solver.INFEASIBLE"
   ]
  },
  {
   "cell_type": "code",
   "execution_count": 6,
   "id": "1ab60866",
   "metadata": {},
   "outputs": [],
   "source": [
    "#Exemplos\n",
    "\n",
    "\n",
    "Slots = 10\n",
    "Dias = 5\n",
    "\n",
    "#Exemplo 1\n",
    "\n",
    "#Prof = 5                 \n",
    "#Professores={1:[1,2,3], 2:[3], 3:[1], 4:[1,2], 5:[2,3]}\n",
    "\n",
    "#Sal = 3                \n",
    "#Salas=[1,0,1]\n",
    "\n",
    "#Disc = 3               \n",
    "#Disciplinas={1:(1,2,1),2:(2,3,0),3:(2,2,1)}\n",
    "\n",
    "#Exemplo 2\n",
    "\n",
    "#Prof = 5                 \n",
    "#Professores={1:[1,2,3], 2:[3], 3:[4,5] }\n",
    "\n",
    "#Sal = 7                \n",
    "#Salas=[1,0,1,1,1,0,0]\n",
    "\n",
    "#Disc = 3               \n",
    "#Disciplinas={1:(1,2,1),2:(2,3,0),3:(2,2,1),4:(2,2,0),5:(2,2,1)}\n",
    "\n",
    "#Exemplo 3\n",
    "\n",
    "Prof = 3\n",
    "Professores={1:[1], 2:[2], 3:[3] }\n",
    "\n",
    "Sal = 3                \n",
    "Salas=[1,1,1]\n",
    "\n",
    "Disc = 3               \n",
    "Disciplinas={1:(1,2,1),2:(1,2,1),3:(1,2,1)}\n",
    "\n",
    "\n",
    "#Matriz de alocação\n",
    "\n",
    "\n",
    "X = {}\n",
    "\n",
    "for dia in range(Dias):\n",
    "    X[dia] = {}\n",
    "    for sl in range(Slots):\n",
    "        X[dia][sl] = {}\n",
    "        for s in range(len(Salas)):\n",
    "            X[dia][sl][s] = {}\n",
    "            for p in range(len(Professores)):\n",
    "                X[dia][sl][s][p] = {}\n",
    "                for d in range(len(Disciplinas)):\n",
    "                    X[dia][sl][s][p][d] = horario.BoolVar(f'[{dia}][{sl}][{s}][{p}][{d}]')\n",
    "\n",
    "#Matriz Salas x Disciplinas\n",
    "SD = {}\n",
    "for s in range(len(Salas)):\n",
    "    SD[s] = {}\n",
    "    for d in range(len(Disciplinas)):\n",
    "        SD[s][d] = horario.BoolVar(f'[{s}][{d}]')\n",
    "        \n",
    "#Matriz Professores x Disciplinas\n",
    "PD = {}\n",
    "for p in range(len(Professores)):\n",
    "    PD[p] = {} \n",
    "    for d in range(len(Disciplinas)):\n",
    "        PD[p][d] = horario.BoolVar(f'[{p}][{d}]')\n",
    "        \n",
    "#Matriz Slots x Disciplinas\n",
    "SL = {}\n",
    "for s in range(Slots):\n",
    "    SL[s] = {} \n",
    "    for d in range(len(Disciplinas)):\n",
    "        SL[s][d] = horario.BoolVar(f'[{s}][{d}]')\n",
    "\n"
   ]
  },
  {
   "cell_type": "markdown",
   "id": "1473d124",
   "metadata": {},
   "source": [
    "# **Restrições**"
   ]
  },
  {
   "cell_type": "markdown",
   "id": "d8c7f326",
   "metadata": {},
   "source": [
    "1. Cada disciplina tem que ter ss*dur slots durante a semana (ss - sessões semanais; dur - duraçao de uma aula)\n",
    "\n",
    "$$ \\forall_{d<D}, \\sum_{dia<Dias,hora<Slots,s<S,p<P} X[dia][hora][s][p][d] = (ss*dur)$$"
   ]
  },
  {
   "cell_type": "code",
   "execution_count": 7,
   "id": "0298456b",
   "metadata": {},
   "outputs": [],
   "source": [
    "#Cada disciplina tem que ter ss*dur slots durante a semana (ss - sessões semanais; dur - duraçao de uma aula)\n",
    "\n",
    "\n",
    "for d in range(len(Disciplinas)):\n",
    "    dur = Disciplinas[d+1][0]\n",
    "    ss = Disciplinas[d+1][1]\n",
    "    horario.Add(horario.Sum(X[dia][hora][s][p][d] for dia in range(Dias) \n",
    "                                                  for hora in range(Slots) \n",
    "                                                  for s in range(len(Salas)) \n",
    "                                                  for p in range(len(Professores)))==(ss*dur))"
   ]
  },
  {
   "cell_type": "markdown",
   "id": "8a3cba91",
   "metadata": {},
   "source": [
    "2. Aulas com Disciplinas (ou Professores ou Salas) iguais encontra-se num determinado slot uma ou nenhuma vez\n"
   ]
  },
  {
   "cell_type": "markdown",
   "id": "e9a96808",
   "metadata": {},
   "source": [
    "  2.1. Disciplinas    \n",
    "$$ \\forall_{dia<Dias} \\forall_{hora<Slots} \\forall_{d<D}, \\sum_{s<S,p<P} X[dia][hora][s][p][d] \\le 1$$"
   ]
  },
  {
   "cell_type": "code",
   "execution_count": 8,
   "id": "32b4e06d",
   "metadata": {},
   "outputs": [],
   "source": [
    "#Uma disciplina encontra-se num determinado slot uma ou nenhuma vez\n",
    "for dia in range(Dias):\n",
    "    for hora in range(Slots):\n",
    "        for d in range(len(Disciplinas)):\n",
    "            horario.Add(horario.Sum(X[dia][hora][s][p][d] for s in range(len(Salas)) for p in range(len(Professores)))<=1)"
   ]
  },
  {
   "cell_type": "markdown",
   "id": "2db9d2e9",
   "metadata": {},
   "source": [
    "2.2. Professores\n",
    "    $$ \\forall_{dia<Dias} \\forall_{hora<Slots} \\forall_{p<P}, \\sum_{s<S,d<D} X[dia][hora][s][p][d] \\le 1$$"
   ]
  },
  {
   "cell_type": "code",
   "execution_count": 9,
   "id": "95938ed9",
   "metadata": {},
   "outputs": [],
   "source": [
    "#Um professor encontra-se num determinado slot uma ou nenhuma vez\n",
    "for dia in range(Dias):\n",
    "    for hora in range(Slots):\n",
    "        for p in range(len(Professores)):\n",
    "            horario.Add(horario.Sum(X[dia][hora][s][p][d] for s in range(len(Salas)) for d in range(len(Disciplinas)))<=1)"
   ]
  },
  {
   "cell_type": "markdown",
   "id": "abd33dc4",
   "metadata": {},
   "source": [
    "2.3. Salas\n",
    "    $$ \\forall_{dia<Dias}, \\forall_{hora<Slots}, \\forall_{s<S}, \\sum_{p<P,d<D} X[dia][hora][s][p][d] \\le 1$$"
   ]
  },
  {
   "cell_type": "code",
   "execution_count": 10,
   "id": "7cc30955",
   "metadata": {},
   "outputs": [],
   "source": [
    "#Uma sala encontra-se num determinado slot uma ou nenhuma vez\n",
    "for dia in range(Dias):\n",
    "    for hora in range(Slots):\n",
    "        for s in range(len(Salas)):\n",
    "            horario.Add(horario.Sum(X[dia][hora][s][p][d] for d in range(len(Disciplinas)) for p in range(len(Professores)))<=1)"
   ]
  },
  {
   "cell_type": "markdown",
   "id": "fc5f3777",
   "metadata": {},
   "source": [
    "**3. Restrições sobre Professores**"
   ]
  },
  {
   "cell_type": "markdown",
   "id": "ff6a2c8e",
   "metadata": {},
   "source": [
    "3.1. Cada Disciplina tem um unico professor\n",
    "\n",
    "$$\\forall_{d<D}, \\sum_{p<P} PD[p][d] = 1$$"
   ]
  },
  {
   "cell_type": "code",
   "execution_count": 11,
   "id": "e7352af8",
   "metadata": {},
   "outputs": [],
   "source": [
    "for d in range(len(Disciplinas)):\n",
    "    horario.Add(horario.Sum(PD[p][d] for p in range(len(Professores))) == 1)"
   ]
  },
  {
   "cell_type": "code",
   "execution_count": 12,
   "id": "5cf29244",
   "metadata": {},
   "outputs": [],
   "source": [
    "for dia in range(Dias):\n",
    "    for hora in range(Slots):\n",
    "        for p in range(len(Professores)):\n",
    "            for s in range(len(Salas)):\n",
    "                for d in range(len(Disciplinas)): \n",
    "                    horario.Add(PD[p][d] >= X[dia][hora][s][p][d])"
   ]
  },
  {
   "cell_type": "markdown",
   "id": "570d85fa",
   "metadata": {},
   "source": [
    "3.2. Alocaçao de professores para as disciplinas que está habilitado\n",
    "\n",
    "$$ \\forall_{dia<Dias} \\forall_{hora<Slots}, \\forall_{s<S}, \\forall_{d<D}, \\forall_{p<P}, (d+1) \\notin Professores[p+1] \\rightarrow X[dia][hora][s][p][d] \\le 1$$"
   ]
  },
  {
   "cell_type": "code",
   "execution_count": 13,
   "id": "ccede3f7",
   "metadata": {},
   "outputs": [],
   "source": [
    "for dia in range(Dias):\n",
    "    for hora in range(Slots):\n",
    "        for s in range(len(Salas)):\n",
    "            for d in range(len(Disciplinas)):\n",
    "                for p in range(len(Professores)):\n",
    "                    if d+1 in Professores[p+1]:\n",
    "                        horario.Add(X[dia][hora][s][p][d] <= 1)\n",
    "                    else:\n",
    "                        horario.Add(X[dia][hora][s][p][d] == 0) \n"
   ]
  },
  {
   "cell_type": "markdown",
   "id": "e6c45d0e",
   "metadata": {},
   "source": [
    "3.3. O número total de horas lecionadas por cada professor está num intervalo de 20% do número médio de horas lecionadas pela totalidade dos professores $$(Disciplinas[d+1][0] = dur; Disciplinas[d+1][1] = a)$$\n",
    "\n",
    "$$\\forall_{p<P}, (media*1.2) \\ge (\\sum_{d<D} PD[p][d] * dur * a) \\ge (media*0.8)$$"
   ]
  },
  {
   "cell_type": "code",
   "execution_count": 14,
   "id": "78f04146",
   "metadata": {},
   "outputs": [],
   "source": [
    "\n",
    "#s_Total = 0\n",
    "\n",
    "#for d1 in range(len(Disciplinas)):\n",
    "#    s_Total += Disciplinas[d1+1][0] * Disciplinas[d1+1][1]\n",
    "\n",
    "#media = s_Total/len(Professores)\n",
    "\n",
    "#for p in range(len(Professores)):\n",
    "#    horario.Add((media*1.2)>=horario.Sum(PD[p][d] * Disciplinas[d+1][0] * Disciplinas[d+1][1] for d in range(len(Disciplinas)))>=(media*0.8))"
   ]
  },
  {
   "cell_type": "markdown",
   "id": "ad7d37c6",
   "metadata": {},
   "source": [
    "**4. Restrições sobre Salas**"
   ]
  },
  {
   "cell_type": "markdown",
   "id": "dcf83e7b",
   "metadata": {},
   "source": [
    "4.1. Cada Disciplina tem uma unica sala\n",
    "\n",
    "$$\\forall_{d<D}, \\sum_{s<S} SD[s][d] = 1$$"
   ]
  },
  {
   "cell_type": "code",
   "execution_count": 15,
   "id": "40121379",
   "metadata": {},
   "outputs": [],
   "source": [
    "for d in range(len(Disciplinas)):\n",
    "    horario.Add(horario.Sum(SD[s][d] for s in range(len(Salas))) == 1)"
   ]
  },
  {
   "cell_type": "markdown",
   "id": "3ef406bd",
   "metadata": {},
   "source": [
    "4.2. Uma determinada sala tem que estar associada de pelo menos uma certa disciplina\n",
    "\n",
    "$$ \\forall_{dia<Dias} \\forall_{hora<Slots}, \\forall_{s<S}, \\forall_{d<D}, \\forall_{p<P}, SD[s][d] \\le X[dia][hora][s][p][d]$$"
   ]
  },
  {
   "cell_type": "code",
   "execution_count": 16,
   "id": "037fb840",
   "metadata": {},
   "outputs": [],
   "source": [
    "for dia in range(Dias):\n",
    "    for hora in range(Slots):\n",
    "        for p in range(len(Professores)):\n",
    "            for s in range(len(Salas)):\n",
    "                for d in range(len(Disciplinas)): \n",
    "                    horario.Add(SD[s][d] >= X[dia][hora][s][p][d])"
   ]
  },
  {
   "cell_type": "markdown",
   "id": "1a5ba9e7",
   "metadata": {},
   "source": [
    "4.3. Alocaçao de salas de tamanho adequado para uma dada disciplina $$(Disciplinas[d+1][2] = tam)$$\n",
    "\n",
    "$$ \\forall_{dia<Dias} \\forall_{hora<Slots}, \\forall_{s<S}, \\forall_{d<D}, \\forall_{p<P}, tam = Salas[s] \\rightarrow X[dia][hora][s][p][d] \\le 1 $$"
   ]
  },
  {
   "cell_type": "code",
   "execution_count": 17,
   "id": "d1a2a2ba",
   "metadata": {},
   "outputs": [],
   "source": [
    "for dia in range(Dias):\n",
    "    for hora in range(Slots):\n",
    "        for p in range(len(Professores)):\n",
    "            for d in range(len(Disciplinas)):\n",
    "                for s in range(len(Salas)):\n",
    "                    if Disciplinas[d+1][2]==Salas[s]:\n",
    "                        horario.Add(X[dia][hora][s][p][d] <= 1)\n",
    "                    else:\n",
    "                        horario.Add(X[dia][hora][s][p][d] == 0)"
   ]
  },
  {
   "cell_type": "markdown",
   "id": "4a7295cd",
   "metadata": {},
   "source": [
    "# **Imprimir o horário**"
   ]
  },
  {
   "cell_type": "code",
   "execution_count": 18,
   "id": "8116805a",
   "metadata": {},
   "outputs": [
    {
     "name": "stdout",
     "output_type": "stream",
     "text": [
      "Dia 1:\n",
      "\n",
      "Manhã:\n",
      "\n",
      "Slot 1: \n",
      "\n",
      "\n",
      "Slot 2: \n",
      "\n",
      "\n",
      "Slot 3: \n",
      "\n",
      "\n",
      "Slot 4: \n",
      "\n",
      "\n",
      "Slot 5: \n",
      "\n",
      "\n",
      "\n",
      "Tarde:\n",
      "\n",
      "Slot 6: \n",
      "\n",
      "\n",
      "Slot 7: \n",
      "\n",
      "\n",
      "Slot 8: \n",
      "Room 2, Discipline 1, Professor 1 | \n",
      "\n",
      "Slot 9: \n",
      "\n",
      "\n",
      "Slot 10: \n",
      "Room 1, Discipline 3, Professor 3 | \n",
      "\n",
      "\n",
      "Dia 2:\n",
      "\n",
      "Manhã:\n",
      "\n",
      "Slot 1: \n",
      "\n",
      "\n",
      "Slot 2: \n",
      "\n",
      "\n",
      "Slot 3: \n",
      "\n",
      "\n",
      "Slot 4: \n",
      "\n",
      "\n",
      "Slot 5: \n",
      "\n",
      "\n",
      "\n",
      "Tarde:\n",
      "\n",
      "Slot 6: \n",
      "\n",
      "\n",
      "Slot 7: \n",
      "\n",
      "\n",
      "Slot 8: \n",
      "\n",
      "\n",
      "Slot 9: \n",
      "\n",
      "\n",
      "Slot 10: \n",
      "\n",
      "\n",
      "\n",
      "Dia 3:\n",
      "\n",
      "Manhã:\n",
      "\n",
      "Slot 1: \n",
      "\n",
      "\n",
      "Slot 2: \n",
      "\n",
      "\n",
      "Slot 3: \n",
      "\n",
      "\n",
      "Slot 4: \n",
      "\n",
      "\n",
      "Slot 5: \n",
      "\n",
      "\n",
      "\n",
      "Tarde:\n",
      "\n",
      "Slot 6: \n",
      "\n",
      "\n",
      "Slot 7: \n",
      "\n",
      "\n",
      "Slot 8: \n",
      "Room 2, Discipline 1, Professor 1 | \n",
      "\n",
      "Slot 9: \n",
      "Room 1, Discipline 2, Professor 2 | \n",
      "\n",
      "Slot 10: \n",
      "\n",
      "\n",
      "\n",
      "Dia 4:\n",
      "\n",
      "Manhã:\n",
      "\n",
      "Slot 1: \n",
      "\n",
      "\n",
      "Slot 2: \n",
      "\n",
      "\n",
      "Slot 3: \n",
      "\n",
      "\n",
      "Slot 4: \n",
      "\n",
      "\n",
      "Slot 5: \n",
      "\n",
      "\n",
      "\n",
      "Tarde:\n",
      "\n",
      "Slot 6: \n",
      "\n",
      "\n",
      "Slot 7: \n",
      "\n",
      "\n",
      "Slot 8: \n",
      "\n",
      "\n",
      "Slot 9: \n",
      "\n",
      "\n",
      "Slot 10: \n",
      "Room 1, Discipline 2, Professor 2 | \n",
      "\n",
      "\n",
      "Dia 5:\n",
      "\n",
      "Manhã:\n",
      "\n",
      "Slot 1: \n",
      "\n",
      "\n",
      "Slot 2: \n",
      "\n",
      "\n",
      "Slot 3: \n",
      "\n",
      "\n",
      "Slot 4: \n",
      "\n",
      "\n",
      "Slot 5: \n",
      "Room 1, Discipline 3, Professor 3 | \n",
      "\n",
      "\n",
      "Tarde:\n",
      "\n",
      "Slot 6: \n",
      "\n",
      "\n",
      "Slot 7: \n",
      "\n",
      "\n",
      "Slot 8: \n",
      "\n",
      "\n",
      "Slot 9: \n",
      "\n",
      "\n",
      "Slot 10: \n",
      "\n",
      "\n",
      "\n"
     ]
    }
   ],
   "source": [
    "#Imprimir\n",
    "\n",
    "status = horario.Solve()\n",
    "if status == pywraplp.Solver.OPTIMAL:\n",
    " \n",
    " for dia in range(Dias):\n",
    "     print(f\"Dia {dia + 1}:\")\n",
    "     for slot in range(Slots):\n",
    "         if slot == 0:\n",
    "            print(f\"\\nManhã:\\n\")\n",
    "         if slot == 5:\n",
    "            print(f\"\\nTarde:\\n\")\n",
    "         print(f\"Slot {slot + 1}: \")\n",
    "         for s in range(len(Salas)):\n",
    "             for p in range(len(Professores)):\n",
    "                 for d in range(len(Disciplinas)):\n",
    "                        value = X[dia][slot][s][p][d].solution_value()\n",
    "                        if value == 1:\n",
    "                            print(f\"Room {s + 1}, Discipline {d + 1}, Professor {p + 1}\", end=\" | \")\n",
    "         print(\"\\n\")  \n",
    "     print() \n",
    "        \n",
    "else:\n",
    "  print(\"Não foi encontrada solução\")"
   ]
  },
  {
   "cell_type": "markdown",
   "id": "a6cd224b",
   "metadata": {},
   "source": [
    "# **Restrições Incompletas**\n",
    "\n"
   ]
  },
  {
   "cell_type": "code",
   "execution_count": 18,
   "id": "48189b59",
   "metadata": {},
   "outputs": [],
   "source": [
    "#maximize o número de partes de dia (manhãs ou tardes) que estão livres de qualquer aula.\n",
    "for hora in range(,5)\n",
    "        horario.Maximize(horario.Sum(SL[hora][d] for d in range(len(Disciplinas))) == 0)"
   ]
  },
  {
   "cell_type": "code",
   "execution_count": 19,
   "id": "5682c224",
   "metadata": {},
   "outputs": [],
   "source": [
    "#Cada sessão tem um numero de horas consecutivas\n",
    "#\n",
    "#    "
   ]
  },
  {
   "cell_type": "code",
   "execution_count": 16,
   "id": "1836fb3b",
   "metadata": {},
   "outputs": [],
   "source": [
    "#Cada sessão tem um numero de horas consecutivas\n",
    "\n",
    "for d in range(len(Disciplinas)):\n",
    "    if Disciplinas[d+1][0] == 1:\n",
    "        for dia in range(Dias):\n",
    "            for s in range(len(Salas)):\n",
    "                for p in range(len(Professores)):\n",
    "                    horario.Add(horario.Sum(X[dia][hora][s][p][d] for hora in range(Slots)) <= 1)\n",
    "    if Disciplinas[d+1][0] == 2:\n",
    "        for dia in range(Dias):\n",
    "            for s in range(len(Salas)):\n",
    "                for p in range(len(Professores)):\n",
    "                    for hora in range(Slots-1):\n",
    "                        if (hora != 0 and hora != 4):\n",
    "                            horario.Add(X[dia][hora][s][d][p] <= horario.Sum(X[dia][h1][s][d][p] for h1 in range(hora-1, hora+2, 2)))\n"
   ]
  },
  {
   "cell_type": "code",
   "execution_count": null,
   "id": "544da774",
   "metadata": {},
   "outputs": [],
   "source": []
  }
 ],
 "metadata": {
  "kernelspec": {
   "display_name": "Python 3 (ipykernel)",
   "language": "python",
   "name": "python3"
  },
  "language_info": {
   "codemirror_mode": {
    "name": "ipython",
    "version": 3
   },
   "file_extension": ".py",
   "mimetype": "text/x-python",
   "name": "python",
   "nbconvert_exporter": "python",
   "pygments_lexer": "ipython3",
   "version": "3.11.5"
  }
 },
 "nbformat": 4,
 "nbformat_minor": 5
}
