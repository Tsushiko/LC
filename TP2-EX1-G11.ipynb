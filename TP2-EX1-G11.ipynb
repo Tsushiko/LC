{
 "cells": [
  {
   "cell_type": "markdown",
   "id": "ec55c897",
   "metadata": {},
   "source": [
    "# **TP2 - Exercicio 1 - Grupo 11**\n",
    "\n",
    "Bruno Miguel Fernandes Araújo - A97509\n",
    "\n",
    "Tiago Emanuel Lemos Teixeira - A97666"
   ]
  },
  {
   "cell_type": "markdown",
   "id": "379a22e8",
   "metadata": {},
   "source": [
    "# **Exercicio 1 - Algoritmo estendido de Euclides usando FOTS**"
   ]
  },
  {
   "cell_type": "markdown",
   "id": "10c37368",
   "metadata": {},
   "source": [
    "\n",
    "1. O algoritmo estendido de Euclides (EXA) aceita dois inteiros constantes  $\\,a,b>0\\,$  e devolve inteiros $r,s,t\\,$ tais que  $\\,a*s + b*t = r\\,$  e  $\\,r = \\gcd(a,b)\\,$. \n",
    "    Para além das variáveis $\\,r,s,t\\,$ o código requer 3 variáveis adicionais $\\,r',s',t'\\,$ que representam os valores de $\\,r,s,t\\,$ no “próximo estado”."
   ]
  },
  {
   "cell_type": "markdown",
   "id": "6be7aaad",
   "metadata": {},
   "source": [
    "```Python\n",
    "INPUT  a, b\n",
    "assume  a > 0 and b > 0\n",
    "r, r', s, s', t, t' = a, b, 1, 0, 0, 1\n",
    "while r' != 0\n",
    "  q = r div r'\n",
    "  r, r', s, s', t, t' = r', r − q × r', s', s − q × s', t', t − q × t' \n",
    "OUTPUT r, s, t\n"
   ]
  },
  {
   "cell_type": "markdown",
   "id": "3e19f08d",
   "metadata": {},
   "source": [
    "1. Construa um FOTS usando BitVector de tamanho $n$ que descreva o comportamento deste programa: identifique as variáveis do modelo, o estado inicial e a relação de transição.\n",
    "2. Considere estado de erro quando $\\,r=0\\,$ ou alguma das variáveis atinge o “overflow”.\n",
    "        Prove que o programa nunca atinge o estado de erro.\n",
    "3. Prove que a relação de Bézout $\\,$$ $\\,a*s + b*t = r\\, é um invariante do algoritmo."
   ]
  },
  {
   "cell_type": "markdown",
   "id": "fc194c5c",
   "metadata": {},
   "source": [
    "# **Construção do FOTS**\n",
    "\n",
    "Começaremos então por construir as funçãos que se encontram envolvidas neste processo."
   ]
  },
  {
   "cell_type": "code",
   "execution_count": 1,
   "id": "2e5b3f70",
   "metadata": {},
   "outputs": [],
   "source": [
    "from pysmt.shortcuts import *\n",
    "from pysmt.typing import INT\n",
    "from pysmt.typing import BVType"
   ]
  },
  {
   "cell_type": "markdown",
   "id": "1adee423",
   "metadata": {},
   "source": [
    "Primeiramente a função **declare** onde declararemos todos os estados com variáveis do tipo $BVType(n)$ de forma a termos um bitvector de tamanho n associado a estas.\n",
    "As variáveis presentes nestes são aquelas envolvidas no programa indicado no enunciado , ou seja, a , b , r ,r' , s , s',t,t' e q.\n",
    "Além destas temos a variavél pc que é referente ao \"program counter\" e terá este comportamento no contexto do programa.\n",
    "\n",
    "```Python\n",
    "INPUT  a, b\n",
    "pc = 0    assume  a > 0 and b > 0\n",
    "pc = 1    r, r', s, s', t, t' = a, b, 1, 0, 0, 1\n",
    "pc = 2    while r' != 0\n",
    "pc = 3      q = r div r'\n",
    "pc = 4      r, r', s, s', t, t' = r', r − q × r', s', s − q × s', t', t − q × t' \n",
    "OUTPUT r, s, t\n",
    "\n"
   ]
  },
  {
   "cell_type": "code",
   "execution_count": 2,
   "id": "e0f05634",
   "metadata": {},
   "outputs": [],
   "source": [
    "def declare(i):\n",
    "    state = {}\n",
    "    state['pc'] = Symbol('pc'+str(i),BVType(n))\n",
    "    state['a'] = Symbol('a'+str(i),BVType(n))\n",
    "    state['b'] = Symbol('b'+str(i),BVType(n))\n",
    "    state['r'] = Symbol('r'+str(i),BVType(n))\n",
    "    state['r_'] = Symbol('r_'+str(i),BVType(n))\n",
    "    state['s'] = Symbol('s'+str(i),BVType(n))\n",
    "    state['s_'] = Symbol('s_'+str(i),BVType(n))\n",
    "    state['t'] = Symbol('t'+str(i),BVType(n))\n",
    "    state['t_'] = Symbol('t_'+str(i),BVType(n))\n",
    "    state['q'] = Symbol('q'+str(i),BVType(n))\n",
    "    return state"
   ]
  },
  {
   "cell_type": "markdown",
   "id": "18f9add2",
   "metadata": {},
   "source": [
    "De seguida a função **init** que trata das restrições no estado inicial, neste caso temos então.\n",
    "$$ (\\mathit{pc} = 0 \\wedge (a \\gt 0 \\wedge a = a) \\wedge (b \\gt 0 \\wedge b = b)) $$\n",
    "\n",
    "Este a e b que estão a ser atribuidos aos state['a'] e state['b'] respetivamente , são os números dados como input."
   ]
  },
  {
   "cell_type": "code",
   "execution_count": 3,
   "id": "9d84480a",
   "metadata": {},
   "outputs": [],
   "source": [
    "def init(state):\n",
    "    #pc == 0 && (a > 0 && a==a) && (b > 0 && b==b)\n",
    "    PC = Equals(state['pc'],BV(0,n)) \n",
    "    A = And(BVUGT(state['a'],BV(0,n)),Equals(state['a'], BV(a,n)))\n",
    "    B = And(BVUGT(state['b'],BV(0,n)),Equals(state['b'], BV(b,n)))\n",
    "    return And(PC,A,B)\n"
   ]
  },
  {
   "cell_type": "markdown",
   "id": "14fe0272",
   "metadata": {},
   "source": [
    "Por fim para as transições entre estados temos a função **trans** definida tendo em conta os seguintes predicados.\n",
    "\n",
    "Notas: **next** como prefixo de uma variável refere a esta no proximo estado.\n",
    "\n",
    "Transição 01:\n",
    "$$ (\\mathit{pc} = 0 \\wedge \\mathit{next pc} = 1 \\wedge next a = a \\wedge next b = b \\wedge next r = a \\wedge next r' = b \\wedge next s = 1 \\wedge next s' = 0 \\wedge next t = 0 \\wedge next t' = 1 ) $$\n",
    "\n",
    "Transição 12:\n",
    "$$(\\mathit{pc} = 1 \\wedge !( r' = 0 ) \\wedge r = next r \\wedge r' = next r' \\wedge s = next s \\wedge s' = next s' \\wedge t = next t \\wedge t' = next t' \\wedge \\mathit{next pc} = 2 )$$\n",
    "\n",
    "Transição 23:\n",
    "$$(\\mathit{pc} = 2 \\wedge r = next r \\wedge r' = next r' \\wedge s = next s \\wedge s' = next s' \\wedge t = next t \\wedge t' = next t' \\wedge \\mathit{nextpc} =3 \\wedge (nextq = r \\div r' ) )$$\n",
    "\n",
    "Transição 31:\n",
    "$$(\\mathit{pc} = 3 \\wedge \\mathit{nextpc} = 1 \\wedge nextr = r' \\wedge (nextr' = r - (q \\times r')) \\wedge nexts = s' \\wedge      (nexts' = s - (q \\times s')) \\wedge nextt= t' \\wedge (nextt' = t - (q \\times t')) )$$\n",
    "\n",
    "Transição 14:\n",
    "$$(\\mathit{pc} = 1 \\wedge ( r' = 0 ) \\wedge r = next r \\wedge r' = next r' \\wedge s = next s \\wedge s' = next s' \\wedge t = next t \\wedge t' = next t' \\wedge \\mathit{next pc} = 4 )$$\n",
    "\n",
    "Transição 44:\n",
    "$$(\\mathit{pc} = 4 \\wedge r = next r \\wedge r' = next r' \\wedge s = next s \\wedge s' = next s' \\wedge t = next t \\wedge t' = next t' \\wedge \\mathit{next pc} = 4 )$$\n",
    "\n",
    "\n",
    "A transição 44 é para este permanecer caso k seja superior aos numero de passos necessários para determinar gcd(a,b)."
   ]
  },
  {
   "cell_type": "code",
   "execution_count": 4,
   "id": "3121ea89",
   "metadata": {},
   "outputs": [],
   "source": [
    "def trans(curr, prox):\n",
    "    \n",
    "    t01= And(\n",
    "             Equals(curr['pc'],BV(0,n)),#pc==0\n",
    "             Equals(prox['pc'],BV(1,n)),#pc==1 \n",
    "             Equals(prox['a'],curr['a']),#a==a\n",
    "             Equals(prox['b'],curr['b']),#b==b\n",
    "             Equals(prox['r'],curr['a']),#r==a\n",
    "             Equals(prox['r_'],curr['b']),#r'==b\n",
    "             Equals(prox['s'],BV(1,n)),#s==1\n",
    "             Equals(prox['s_'],BV(0,n)),#s'==0\n",
    "             Equals(prox['t'],BV(0,n)),#t==0\n",
    "             Equals(prox['t_'],BV(1,n))#t'==1\n",
    "            )\n",
    "    \n",
    "  #  print(t01)\n",
    "  #  print(\"\\n\")\n",
    "    \n",
    "    t12= And(Equals(curr['pc'],BV(1,n)),#pc==1\n",
    "             Not(Equals(curr['r_'],BV(0,n))),#r'!=0\n",
    "             Equals(curr['r'],prox['r']),\n",
    "             Equals(curr['r_'],prox['r_']),\n",
    "             Equals(curr['s'],prox['s']),\n",
    "             Equals(curr['s_'],prox['s_']),\n",
    "             Equals(curr['t'],prox['t']),\n",
    "             Equals(curr['t_'],prox['t_']),\n",
    "             Equals(prox['pc'],BV(2,n))#pc==2\n",
    "            )\n",
    "    \n",
    "  #  print(t12)\n",
    "  #  print(\"\\n\")\n",
    "\n",
    "    t23= And(Equals(curr['pc'],BV(2,n)),#pc==2\n",
    "             Equals(curr['r'],prox['r']),\n",
    "             Equals(curr['r_'],prox['r_']),\n",
    "             Equals(curr['s'],prox['s']),\n",
    "             Equals(curr['s_'],prox['s_']),\n",
    "             Equals(curr['t'],prox['t']),\n",
    "             Equals(curr['t_'],prox['t_']),\n",
    "             Equals(prox['pc'],BV(3,n)),#pc==3\n",
    "             Equals(prox['q'],BVUDiv(curr['r'],curr['r_']))\n",
    "    )\n",
    "        \n",
    "  #  print(t23)\n",
    "  #  print(\"\\n\")\n",
    "    \n",
    "    t31= And(Equals(curr['pc'],BV(3,n)),#pc==3\n",
    "             Equals(prox['pc'],BV(1,n)),#pc==1\n",
    "             Equals(prox['r'],curr['r_']),\n",
    "             Equals(prox['r_'],BVSub(curr['r'],BVMul(curr['q'],curr['r_']))),\n",
    "             Equals(prox['s'],curr['s_']),\n",
    "             Equals(prox['s_'],BVSub(curr['s'],BVMul(curr['q'],curr['s_']))),\n",
    "             Equals(prox['t'],curr['t_']),\n",
    "             Equals(prox['t_'],BVSub(curr['t'],BVMul(curr['q'],curr['t_']))),\n",
    "        )\n",
    "    \n",
    "\n",
    "  #  print(t31)\n",
    "  #  print(\"\\n\")\n",
    "             \n",
    "    t14= And(Equals(curr['pc'],BV(1,n)),#pc==1\n",
    "             Equals(curr['r_'],BV(0,n)),#r'==0\n",
    "             Equals(curr['r'],prox['r']),\n",
    "             Equals(curr['r_'],prox['r_']),\n",
    "             Equals(curr['s'],prox['s']),\n",
    "             Equals(curr['s_'],prox['s_']),\n",
    "             Equals(curr['t'],prox['t']),\n",
    "             Equals(curr['t_'],prox['t_']),\n",
    "             Equals(prox['pc'],BV(4,n))#pc==4\n",
    "            )\n",
    "    \n",
    "  #  print(t14)\n",
    "  #  print(\"\\n\")\n",
    "    \n",
    "    t44= And(Equals(curr['pc'],BV(4,n)),\n",
    "             Equals(curr['r'],prox['r']),\n",
    "             Equals(curr['r_'],prox['r_']),\n",
    "             Equals(curr['s'],prox['s']),\n",
    "             Equals(curr['s_'],prox['s_']),\n",
    "             Equals(curr['t'],prox['t']),\n",
    "             Equals(curr['t_'],prox['t_']),\n",
    "             Equals(curr['q'],prox['q']),\n",
    "             Equals(prox['pc'],BV(4,n)),\n",
    "            )\n",
    "  #  print(t44)\n",
    "  #  print(\"\\n\")\n",
    "    \n",
    "    return Or(t01,t12,t14,t23,t31,t44)"
   ]
  },
  {
   "cell_type": "markdown",
   "id": "c1d99f32",
   "metadata": {},
   "source": [
    "Por  fim temos a função **gera_traco** que depois de declarados os estados, o primeiro estado inicializado e as transições entre os estados respeitadas é então criado um solver que se for capaz de dar solve imprime o resultado se não devolve \n",
    "\\>Not Feasible.\n"
   ]
  },
  {
   "cell_type": "code",
   "execution_count": 5,
   "id": "b1bb6f78",
   "metadata": {},
   "outputs": [],
   "source": [
    "def gera_traco(k):\n",
    "    \n",
    "    states = [declare(i) for i in range(k)] # declarar estados\n",
    "    with Solver(\"msat\") as solver:\n",
    "        solver.add_assertion(init(states[0])) # satisfazer a inicialização do primeiro estado\n",
    "        \n",
    "        for j in range(k-1): #satisfazer os restantes estados tendo em conta as transiçoes\n",
    "            solver.add_assertion(trans(states[j],states[j+1]))\n",
    "        \n",
    "        if solver.solve(): \n",
    "            print(f\"Input:\\na = {a} , b = {b} \\n\\nExecução:\")\n",
    "            for i,s in enumerate(states):\n",
    "                print(f\"> state {i}: r = {solver.get_value(s['r']).bv_signed_value()}, r' = {solver.get_value(s['r_']).bv_signed_value()}, s = {solver.get_value(s['s']).bv_signed_value()}, s' = {solver.get_value(s['s_']).bv_signed_value()}, t = {solver.get_value(s['t']).bv_signed_value()}, t' = {solver.get_value(s['t_']).bv_signed_value()}, q = {solver.get_value(s['q']).bv_signed_value()}, pc = {solver.get_value(s['pc']).bv_signed_value()}.\")\n",
    "            print(f\"\\nOutput:\\nr = {solver.get_value(s['r']).bv_signed_value()}, s = {solver.get_value(s['s']).bv_signed_value()}, t = {solver.get_value(s['t']).bv_signed_value()}\")\n",
    "        else:\n",
    "            print(\">Not Feasible.\")"
   ]
  },
  {
   "cell_type": "markdown",
   "id": "6a3f5344",
   "metadata": {},
   "source": [
    "# **Exemplos:**\n"
   ]
  },
  {
   "cell_type": "markdown",
   "id": "d9bec26d",
   "metadata": {},
   "source": [
    "**Exemplo onde foi possível determinar gcd(a,b) em menos de k passos.**"
   ]
  },
  {
   "cell_type": "code",
   "execution_count": 6,
   "id": "27332595",
   "metadata": {},
   "outputs": [
    {
     "name": "stdout",
     "output_type": "stream",
     "text": [
      "Input:\n",
      "a = 5 , b = 3 \n",
      "\n",
      "Execução:\n",
      "> state 0: r = 13, r' = 12, s = 11, s' = 10, t = 9, t' = 8, q = 7, pc = 0.\n",
      "> state 1: r = 5, r' = 3, s = 1, s' = 0, t = 0, t' = 1, q = 6, pc = 1.\n",
      "> state 2: r = 5, r' = 3, s = 1, s' = 0, t = 0, t' = 1, q = 14, pc = 2.\n",
      "> state 3: r = 5, r' = 3, s = 1, s' = 0, t = 0, t' = 1, q = 1, pc = 3.\n",
      "> state 4: r = 3, r' = 2, s = 0, s' = 1, t = 1, t' = -1, q = 19, pc = 1.\n",
      "> state 5: r = 3, r' = 2, s = 0, s' = 1, t = 1, t' = -1, q = 22, pc = 2.\n",
      "> state 6: r = 3, r' = 2, s = 0, s' = 1, t = 1, t' = -1, q = 1, pc = 3.\n",
      "> state 7: r = 2, r' = 1, s = 1, s' = -1, t = -1, t' = 2, q = 27, pc = 1.\n",
      "> state 8: r = 2, r' = 1, s = 1, s' = -1, t = -1, t' = 2, q = 30, pc = 2.\n",
      "> state 9: r = 2, r' = 1, s = 1, s' = -1, t = -1, t' = 2, q = 2, pc = 3.\n",
      "> state 10: r = 1, r' = 0, s = -1, s' = 3, t = 2, t' = -5, q = 35, pc = 1.\n",
      "> state 11: r = 1, r' = 0, s = -1, s' = 3, t = 2, t' = -5, q = 0, pc = 4.\n",
      "> state 12: r = 1, r' = 0, s = -1, s' = 3, t = 2, t' = -5, q = 0, pc = 4.\n",
      "> state 13: r = 1, r' = 0, s = -1, s' = 3, t = 2, t' = -5, q = 0, pc = 4.\n",
      "> state 14: r = 1, r' = 0, s = -1, s' = 3, t = 2, t' = -5, q = 0, pc = 4.\n",
      "> state 15: r = 1, r' = 0, s = -1, s' = 3, t = 2, t' = -5, q = 0, pc = 4.\n",
      "> state 16: r = 1, r' = 0, s = -1, s' = 3, t = 2, t' = -5, q = 0, pc = 4.\n",
      "> state 17: r = 1, r' = 0, s = -1, s' = 3, t = 2, t' = -5, q = 0, pc = 4.\n",
      "> state 18: r = 1, r' = 0, s = -1, s' = 3, t = 2, t' = -5, q = 0, pc = 4.\n",
      "> state 19: r = 1, r' = 0, s = -1, s' = 3, t = 2, t' = -5, q = 0, pc = 4.\n",
      "\n",
      "Output:\n",
      "r = 1, s = -1, t = 2\n"
     ]
    }
   ],
   "source": [
    "#nº de Passos:\n",
    "k=20\n",
    "\n",
    "a=5\n",
    "b=3\n",
    "\n",
    "#tamanho do bitvector:\n",
    "n=10 \n",
    "\n",
    "gera_traco(k)"
   ]
  },
  {
   "cell_type": "markdown",
   "id": "abe6aea9",
   "metadata": {},
   "source": [
    "**Exemplo onde k passos não é suficiente para determinar gcd(a,b).**"
   ]
  },
  {
   "cell_type": "code",
   "execution_count": 6,
   "id": "7ba9e606",
   "metadata": {},
   "outputs": [
    {
     "name": "stdout",
     "output_type": "stream",
     "text": [
      "Input:\n",
      "a = 2300 , b = 310 \n",
      "\n",
      "Execução:\n",
      "> state 0: r = 13, r' = 12, s = 11, s' = 10, t = 9, t' = 8, q = 6, pc = 0.\n",
      "> state 1: r = 2300, r' = 310, s = 1, s' = 0, t = 0, t' = 1, q = 4, pc = 1.\n",
      "> state 2: r = 2300, r' = 310, s = 1, s' = 0, t = 0, t' = 1, q = 14, pc = 2.\n",
      "> state 3: r = 2300, r' = 310, s = 1, s' = 0, t = 0, t' = 1, q = 7, pc = 3.\n",
      "> state 4: r = 310, r' = 130, s = 0, s' = 1, t = 1, t' = -7, q = 21, pc = 1.\n",
      "> state 5: r = 310, r' = 130, s = 0, s' = 1, t = 1, t' = -7, q = 24, pc = 2.\n",
      "> state 6: r = 310, r' = 130, s = 0, s' = 1, t = 1, t' = -7, q = 2, pc = 3.\n",
      "> state 7: r = 130, r' = 50, s = 1, s' = -2, t = -7, t' = 15, q = 29, pc = 1.\n",
      "> state 8: r = 130, r' = 50, s = 1, s' = -2, t = -7, t' = 15, q = 33, pc = 2.\n",
      "> state 9: r = 130, r' = 50, s = 1, s' = -2, t = -7, t' = 15, q = 2, pc = 3.\n",
      "> state 10: r = 50, r' = 30, s = -2, s' = 5, t = 15, t' = -37, q = 38, pc = 1.\n",
      "> state 11: r = 50, r' = 30, s = -2, s' = 5, t = 15, t' = -37, q = 41, pc = 2.\n",
      "> state 12: r = 50, r' = 30, s = -2, s' = 5, t = 15, t' = -37, q = 1, pc = 3.\n",
      "> state 13: r = 30, r' = 20, s = 5, s' = -7, t = -37, t' = 52, q = 46, pc = 1.\n",
      "\n",
      "Output:\n",
      "r = 30, s = 5, t = -37\n"
     ]
    }
   ],
   "source": [
    "#nº de Passos:\n",
    "k=14\n",
    "\n",
    "a=2300\n",
    "b=310\n",
    "\n",
    "#tamanho do bitvector:\n",
    "n=20\n",
    "\n",
    "gera_traco(k)"
   ]
  },
  {
   "cell_type": "markdown",
   "id": "d24f04d9",
   "metadata": {},
   "source": [
    "# **Provar que o programa nunca atinge o estado de erro.**"
   ]
  },
  {
   "cell_type": "markdown",
   "id": "8f59fa0a",
   "metadata": {},
   "source": [
    "Para provar que o programa nunca atinge o estado de erro usaremos a função **bmc_always** que usamos durante as aulas, esta receberá a invariante/caso de erro juntamente com o numero de passos K.\n",
    "\n",
    "(A função **initinv** existe pois foi necessária uma nova forma de inicialização para a invariante de Bézout ser válida no estado inicial, esta será mencionada mais para a frente)"
   ]
  },
  {
   "cell_type": "code",
   "execution_count": 8,
   "id": "a43f179e",
   "metadata": {},
   "outputs": [],
   "source": [
    "def initinv(state):\n",
    "    PC = Equals(state['pc'],BV(0,n)) \n",
    "    A = And(BVUGT(state['a'],BV(0,n)),Equals(state['a'], BV(a,n)))\n",
    "    B = And(BVUGT(state['b'],BV(0,n)),Equals(state['b'], BV(b,n)))\n",
    "    R = Equals(state['r'],BV(a,n))\n",
    "    S = Equals(state['s'],BV(1,n))\n",
    "    T = Equals(state['t'],BV(0,n))\n",
    "    return And(PC,A,B,R,S,T)\n",
    "\n",
    "def bmc_always(inv,K):\n",
    "    # completar\n",
    "    # K é o tamanho do traço\n",
    "    # inv = invariante, ou estado de erro\n",
    "        \n",
    "    with Solver() as solver:\n",
    "        states = [declare(i) for i in range(K+1)] # declarar estados\n",
    "        solver.add_assertion(initinv(states[0])) # satisfazer o estado inicial\n",
    "\n",
    "        for k in range(K):\n",
    "            if k>0:\n",
    "                solver.add_assertion(trans(states[k-1],states[k]))\n",
    "\n",
    "            solver.push()\n",
    "            solver.add_assertion(Not(inv(states[k]))) # ver se o invariante não satisfaz no estado k \n",
    "           # print(not(inv(states[k])))\n",
    "\n",
    "            if solver.solve(): # inv nao satisfaz\n",
    "                print(f\">Invariant or nonerror case does not holds for {k+1} first states. \\nCounter-example:\")\n",
    "                for i,s in enumerate(states[:k+1]):\n",
    "                    print(f\"> state {i}: r = {solver.get_value(s['r']).bv_signed_value()}, r' = {solver.get_value(s['r_']).bv_signed_value()}, s = {solver.get_value(s['s']).bv_signed_value()}, s' = {solver.get_value(s['s_']).bv_signed_value()}, t = {solver.get_value(s['t']).bv_signed_value()}, t' = {solver.get_value(s['t_']).bv_signed_value()}, q = {solver.get_value(s['q']).bv_signed_value()}, pc = {solver.get_value(s['pc']).bv_signed_value()}.\")\n",
    "                return\n",
    "            else: #inv satisfaz (assertion not(inv(states[k]))) falhou porque inv satisfez\n",
    "                if k==K-1:\n",
    "                    print(f\">Invariant or nonerror case holds for {K} first states.\\n\")\n",
    "\n",
    "            solver.pop()"
   ]
  },
  {
   "cell_type": "markdown",
   "id": "65a27674",
   "metadata": {},
   "source": [
    "Criamos então a função **erros** que representa o inverso do estado de erro $r = 0$ usando o seguinte predicado:\n",
    "$$(r>0 \\vee r<0)$$\n",
    "Se esta for então valida em todos os estados é porque $r = 0$ nunca acontece"
   ]
  },
  {
   "cell_type": "code",
   "execution_count": 9,
   "id": "853f0744",
   "metadata": {},
   "outputs": [
    {
     "name": "stdout",
     "output_type": "stream",
     "text": [
      ">Invariant or nonerror case holds for 20 first states.\n",
      "\n"
     ]
    }
   ],
   "source": [
    "def erros(state):\n",
    "    return Or(BVUGT(state['r'],BV(0,n)),BVULT(state['r'],BV(0,n)))# r>1 || r<1  se r=0 dá verdade quando não é 0\n",
    "\n",
    "bmc_always(erros,20)"
   ]
  },
  {
   "cell_type": "markdown",
   "id": "bfd8332c",
   "metadata": {},
   "source": [
    "Para o outro caso de erro de nenhuma variável dar overflow criamos então a função **overfl** que representa nenhuma variável dar overflow.Usamos então o seguinte predicado tendo em conta que $2 ^ n -1$ é o maior numero num bitvetor de tamanho n:\n",
    "$$(!(r>((2^n)-1) \\vee r'>((2^n)-1)\\vee s>((2^n)-1)\\vee s'>((2^n)-1)\\vee t>((2^n)-1)\\vee t'>((2^n)-1)))$$\n",
    "Se esta for válida em todos os estados é porque nenhuma destas varíavéis dá overflow ao longo do programa."
   ]
  },
  {
   "cell_type": "code",
   "execution_count": 10,
   "id": "278913a4",
   "metadata": {},
   "outputs": [
    {
     "name": "stdout",
     "output_type": "stream",
     "text": [
      ">Invariant or nonerror case holds for 20 first states.\n",
      "\n"
     ]
    }
   ],
   "source": [
    "def overfl(state):\n",
    "    valoroverfl=BV(pow(2,n)-1,n)\n",
    "    R=Not(Or(BVUGT(state['r'],valoroverfl),#r overflow \n",
    "              BVUGT(state['r_'],valoroverfl),#r' overflow\n",
    "              BVUGT(state['s'],valoroverfl),#s overflow\n",
    "              BVUGT(state['s_'],valoroverfl),#s' overflow\n",
    "              BVUGT(state['t'],valoroverfl),#t overflow\n",
    "              BVUGT(state['t_'],valoroverfl)#t' overflow\n",
    "                       ))# dá verdade quando não tivermos um overflow\n",
    "    #r,s,t,r',s',t'>2 ^31 - 1\n",
    "    #print(valoroverfl)\n",
    "    #print(R)\n",
    "    return R\n",
    "\n",
    "bmc_always(overfl,20)"
   ]
  },
  {
   "cell_type": "markdown",
   "id": "0328bde2",
   "metadata": {},
   "source": [
    "# **Provar que a relação de Bézout$\\,$ $\\,a*s + b*t = r\\,$é um invariante do algoritmo**"
   ]
  },
  {
   "cell_type": "markdown",
   "id": "a9711c19",
   "metadata": {},
   "source": [
    "Para provar que a relação de Bézout é um invariante do algortimo, usamos então **bmc_always** usada nas aulas juntamente com **initinv** previamente explicado.\n",
    "\n",
    "Por fim criamos então a função **invariante** que representará a relação de Bézout.Usamos então o seguinte predicado:\n",
    "$$(r=((a\\times s)+(b \\times t))$$\n",
    "\n",
    "Se esta for válida em todos os estados é porque representa uma invariante do programa."
   ]
  },
  {
   "cell_type": "code",
   "execution_count": 11,
   "id": "58bd4eb8",
   "metadata": {},
   "outputs": [
    {
     "name": "stdout",
     "output_type": "stream",
     "text": [
      ">Invariant or nonerror case holds for 20 first states.\n",
      "\n"
     ]
    }
   ],
   "source": [
    "def invariante(state):\n",
    "    #a∗s+b∗t\n",
    "    return Equals(state['r'],BVAdd(BVMul(BV(a,n),state['s']),BVMul(BV(b,n),state['t'])))\n",
    "\n",
    "bmc_always(invariante,20)"
   ]
  },
  {
   "cell_type": "markdown",
   "id": "63a16996",
   "metadata": {},
   "source": [
    "Além disso criamos uma invariante incorreta de forma a exemplificar o que ocorre caso seja dado uma invariante inválida, esta tem então o seguinte predicado:\n",
    "$$(t = 0 \\vee t = 1 )$$\n",
    "\n",
    "Esta não é válida em todos os estados, o que não vai de encontro com a definição de invariante."
   ]
  },
  {
   "cell_type": "code",
   "execution_count": 12,
   "id": "fd902d80",
   "metadata": {},
   "outputs": [
    {
     "name": "stdout",
     "output_type": "stream",
     "text": [
      ">Invariant or nonerror case does not holds for 8 first states. \n",
      "Counter-example:\n",
      "> state 0: r = 5, r' = 0, s = 1, s' = 0, t = 0, t' = 0, q = 0, pc = 0.\n",
      "> state 1: r = 5, r' = 3, s = 1, s' = 0, t = 0, t' = 1, q = 0, pc = 1.\n",
      "> state 2: r = 5, r' = 3, s = 1, s' = 0, t = 0, t' = 1, q = 0, pc = 2.\n",
      "> state 3: r = 5, r' = 3, s = 1, s' = 0, t = 0, t' = 1, q = 1, pc = 3.\n",
      "> state 4: r = 3, r' = 2, s = 0, s' = 1, t = 1, t' = -1, q = 0, pc = 1.\n",
      "> state 5: r = 3, r' = 2, s = 0, s' = 1, t = 1, t' = -1, q = 0, pc = 2.\n",
      "> state 6: r = 3, r' = 2, s = 0, s' = 1, t = 1, t' = -1, q = 1, pc = 3.\n",
      "> state 7: r = 2, r' = 1, s = 1, s' = -1, t = -1, t' = 2, q = 0, pc = 1.\n"
     ]
    }
   ],
   "source": [
    "def invarianteteste(state):\n",
    "    return Or(Equals(state['t'],BV(0,n)),Equals(state['t'],BV(1,n)))\n",
    "\n",
    "bmc_always(invarianteteste,20)"
   ]
  },
  {
   "cell_type": "code",
   "execution_count": null,
   "id": "8a61e0b0",
   "metadata": {},
   "outputs": [],
   "source": []
  }
 ],
 "metadata": {
  "kernelspec": {
   "display_name": "Python 3 (ipykernel)",
   "language": "python",
   "name": "python3"
  },
  "language_info": {
   "codemirror_mode": {
    "name": "ipython",
    "version": 3
   },
   "file_extension": ".py",
   "mimetype": "text/x-python",
   "name": "python",
   "nbconvert_exporter": "python",
   "pygments_lexer": "ipython3",
   "version": "3.11.5"
  }
 },
 "nbformat": 4,
 "nbformat_minor": 5
}
