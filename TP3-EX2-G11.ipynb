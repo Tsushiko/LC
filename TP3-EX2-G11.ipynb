{
 "cells": [
  {
   "cell_type": "markdown",
   "id": "7d285a43",
   "metadata": {},
   "source": [
    "# **TP3 - Exercicio 2 - Grupo 11**\n",
    "\n",
    "Bruno Miguel Fernandes Araújo - A97509\n",
    "\n",
    "Tiago Emanuel Lemos Teixeira - A97666"
   ]
  },
  {
   "cell_type": "markdown",
   "id": "1464de21",
   "metadata": {},
   "source": [
    "Considere-se de novo o algoritmo estendido de Euclides apresentado no TP2  mas usando o tipo dos inteiros e um parâmetro $N>0$\n",
    "\n",
    "    INPUT  a, b : Int\n",
    "    assume  a > 0 and b > 0 and a < N and b < N\n",
    "    r, r', s, s', t, t' = a, b, 1, 0, 0, 1\n",
    "    while r' != 0\n",
    "      q = r div r'\n",
    "      r, r', s, s', t, t' = r', r − q × r', s', s − q × s', t', t − q × t' \n",
    "    OUTPUT r, s, t\n",
    "\n",
    "\n",
    "## Exercício 2\n",
    "\n",
    "Este exercício é dirigido à prova de correção do algoritmo estendido de Euclides.\n",
    "\n",
    "   a. Construa a asserção lógica que representa a pós-condição do algoritmo. Note que a definição da função  $\\gcd$  é   $$\\gcd(a,b)\\;\\equiv\\; \\min \\{\\,r > 0\\,|\\,\\exists\\,s,t\\,\\centerdot\\, r = a*s+b*t\\,\\}$$.\n",
    "   \n",
    "   b. Usando a metodologia do comando havoc para o ciclo, escreva o programa na linguagem dos comandos anotados (LPA). Codifique a pós-condição do algoritmo com um comando assert .\n",
    "   \n",
    "   c. Construa codificações do programa LPA através de transformadores de predicados: “weakest pre-condition” e “strongest post-condition”. \n",
    "   \n",
    "   d. Prove a correção  do programa LPA em ambas as codificações."
   ]
  },
  {
   "cell_type": "markdown",
   "id": "6da3e8b9",
   "metadata": {},
   "source": [
    "# Resolução das alíneas"
   ]
  },
  {
   "cell_type": "markdown",
   "id": "9c880131",
   "metadata": {},
   "source": [
    "### 2 A)"
   ]
  },
  {
   "cell_type": "markdown",
   "id": "ec481c2e",
   "metadata": {},
   "source": [
    "Tendo em conta a expressão denotada abaixo sobre a função $\\gcd(a,b)$, "
   ]
  },
  {
   "cell_type": "markdown",
   "id": "ab511537",
   "metadata": {},
   "source": [
    " $$\\gcd(a,b)\\;\\equiv\\; \\min \\{\\,r > 0\\,|\\,\\exists\\,s,t\\,\\centerdot\\, r = a*s+b*t\\,\\}$$ \n",
    " "
   ]
  },
  {
   "cell_type": "markdown",
   "id": "e6969e08",
   "metadata": {},
   "source": [
    "A seguinte expressão representa a pós-condição do algoritmo em questão, constituída por:\n",
    "\n",
    "$\\text{r}$ - Resultado de $\\gcd(a,b)$ (máximo divisor comum entre a e b), com $\\text{s,t} \\in \\text{Z}$; $\\\\$\n",
    "$\\text{N}$ - Valor a que $\\text{r}$ está limitado superiormente; $$\\\\$$\n",
    "$\\text{rNew}$ - valor menor que $\\text{r}$ para algum $\\text{sNew,tNew} \\in \\text{Z}$"
   ]
  },
  {
   "cell_type": "markdown",
   "id": "d13a0c77",
   "metadata": {},
   "source": [
    "\n",
    "\n",
    "$$pos =$$ $$ \\text{i.}( 0 < r < N \\wedge r == a * s + b * t)$$ $$\\wedge$$ $$ \\text{ii.} \\neg ( 0 < rNew < r \\wedge rNew == a * sNew + b * tNew)$$\n"
   ]
  },
  {
   "cell_type": "markdown",
   "id": "b00699cc",
   "metadata": {},
   "source": [
    "## 2 B)"
   ]
  },
  {
   "cell_type": "markdown",
   "id": "3b3e0894",
   "metadata": {},
   "source": [
    "### LPA com metodologia de comando havoc"
   ]
  },
  {
   "cell_type": "markdown",
   "id": "6b0700c5",
   "metadata": {},
   "source": [
    "Tradução para um programa de fluxos:"
   ]
  },
  {
   "cell_type": "markdown",
   "id": "ef89e912",
   "metadata": {},
   "source": [
    "Sejam $(i)$: \n",
    "```Python\n",
    "\n",
    "    pre = a > 0 and b > 0 and a < N and b < N\n",
    "    pos = ( 0 < r < N and r == a * s + b * t) and not( 0 < rNew < r and rNew == a * sNew + b * tNew)\n",
    "    inv = 0 < r < N and r == a * s + b * t\n",
    "```\n"
   ]
  },
  {
   "cell_type": "markdown",
   "id": "9048c246",
   "metadata": {},
   "source": [
    "Sendo $\\text{pre}$ e $\\text{inv}$ as asserções lógicas, que representam respetivamente a \"pré-condição\" e o \"invariante\" do pseudo-código apresentado no enunciado deste trabalho.\n",
    "\n",
    "Em baixo mostra-se o código traduzido em função da Linguagem de Programas Anotados (LPA)"
   ]
  },
  {
   "cell_type": "markdown",
   "id": "0703f962",
   "metadata": {},
   "source": [
    "```Python\n",
    "assume pre;\n",
    "r, r_, s, s_, t, t_ = a, b, 1, 0, 0, 1;\n",
    "(assert inv;\n",
    "havoc r; havoc s; havoc t; havoc r_; havoc s_; havoc t_;\n",
    "#while r_ != 0\n",
    "[( assume r_ != 0 and inv;\n",
    "   q = r div r_;\n",
    "   r, r_, s, s_, t, t_ = r_, r − q * r_, s_, s − q * s_, t_, t − q * t_;\n",
    "   assert inv; assume False;)\n",
    "|| \n",
    "   assume not(r_ != 0) and inv;])\n",
    "\n",
    "assert pos;\n",
    "```\n"
   ]
  },
  {
   "cell_type": "markdown",
   "id": "640a1085",
   "metadata": {},
   "source": [
    "Mostramos, já agora, o código em python referente às condições de $(i)$ (a,b e N são valores escolhidos pelo utilizador, onde $\\text{0}$ < $\\text{a,b}$ < $\\text{N}$ ), que será preciso brevemente"
   ]
  },
  {
   "cell_type": "code",
   "execution_count": 1,
   "id": "3955d5b7",
   "metadata": {},
   "outputs": [],
   "source": [
    "from pysmt.shortcuts import *\n",
    "from pysmt.typing import *\n",
    "N=50\n",
    "a = 42\n",
    "b = 28\n",
    "\n",
    "r = Symbol('r',INT)\n",
    "s = Symbol('s',INT)\n",
    "t = Symbol('t',INT)\n",
    "\n",
    "\n",
    "pre = And(GT(Int(a),Int(0)),GT(Int(b),Int(0)),LT(Int(a),Int(N)),LT(Int(b),Int(N)))\n",
    "\n",
    "def inv(r,a,b,s,t):\n",
    "    return And(GT(r,Int(0)),LT(r,Int(N)),Equals(r, (Int(a) * s) + (Int(b) * t)))\n",
    "\n",
    "def R_isDivisor(a,b,r):\n",
    "    newR = Symbol(f'newR',INT)\n",
    "    newS = Symbol(f'newS',INT)\n",
    "    newT = Symbol(f'newT',INT)\n",
    "    \n",
    "    return And(GT(newR,Int(0)),LT(newR, r), inv(newR,a,b,newS,newT))\n",
    "\n",
    "pos = And(Not(R_isDivisor(a,b,r)),inv(r,a,b,s,t))\n",
    "\n"
   ]
  },
  {
   "cell_type": "markdown",
   "id": "13fc82df",
   "metadata": {},
   "source": [
    "$Nota:$ a função definida por $\\text{R_isDivisor(a,b,r)}$, refere-se à afirmação negada, que se encontra à direita da conjunção da pós-condição (Rever exercício $\\text{2a)ii.}$) "
   ]
  },
  {
   "cell_type": "markdown",
   "id": "4e0e02a9",
   "metadata": {},
   "source": [
    "## 2 C)"
   ]
  },
  {
   "cell_type": "markdown",
   "id": "e2170ed0",
   "metadata": {},
   "source": [
    "### Denotação lógica com WPC"
   ]
  },
  {
   "cell_type": "markdown",
   "id": "47c2c690",
   "metadata": {},
   "source": [
    "Utilizando como guias, as fórmulas que foram dadas na resolução da Ficha 7.\n",
    "Tais fórmulas transformam excertos de código LPA para afirmações lógicas"
   ]
  },
  {
   "cell_type": "markdown",
   "id": "2b27129d",
   "metadata": {},
   "source": [
    "Weakest Pre-condition\n",
    "\n",
    "$\n",
    "\\begin{array}{l}\n",
    "1) [{\\sf skip}] = True \\\\\n",
    "2) [{\\sf assume}\\:\\phi] = True \\\\\n",
    "3)[{\\sf assert}\\:\\phi] = \\phi \\\\\n",
    "4)[ x = e ] = True \\\\\n",
    "5)[(C_1 || C_2)] = [C_1] \\wedge [C_2] \\\\\n",
    "\\\\\n",
    "6)[{\\sf skip}\\, ; C] = [C] \\\\\n",
    "7)[{\\sf assume}\\:\\phi\\, ; C] = \\phi \\to [C] \\\\\n",
    "8)[{\\sf assert}\\:\\phi\\, ; C] = \\phi \\wedge [C] \\\\\n",
    "9)[ x = e \\, ; C] = [C][e/x] \\\\\n",
    "10)[(C_1 || C_2)\\, ; C] = [(C_1 ; C) || (C_2 ; C)] \\\\\n",
    "11)[{\\sf havoc}\\; x \\; ; C] = \\forall x. \\,[C]\n",
    "\\end{array}\n",
    "$"
   ]
  },
  {
   "cell_type": "markdown",
   "id": "123572be",
   "metadata": {},
   "source": [
    "#### Processo de transformação em passos"
   ]
  },
  {
   "cell_type": "markdown",
   "id": "680e72cb",
   "metadata": {},
   "source": [
    "```Python\n",
    "[assume pre;\n",
    "r, r_, s, s_, t, t_ = a, b, 1, 0, 0, 1;\n",
    "\n",
    "assert inv;\n",
    "havoc r; havoc s; havoc t; havoc r_; havoc s_; havoc t_;\n",
    "\n",
    "[( assume r_ != 0 and inv;\n",
    "   q = r div r_;\n",
    "   r, r_, s, s_, t, t_ = r_, r − q × r_, s_, s − q × s_, t_, t − q × t_;\n",
    "   assert inv; assume False;)\n",
    "|| \n",
    "   assume not(r_ != 0) and inv;]\n",
    "assert pos;]\n",
    "\n",
    "= # 7) e 9)\n",
    "pre -> [assert inv; havoc r; havoc s; havoc t; havoc r_; havoc s_; havoc t_; ...; assert pos;] [1/t_][0/t][0/s_][1/s][b/r_][a/r]\n",
    "\n",
    "= # 8) e 11)\n",
    "pre -> inv[1/t_][0/t][0/s_][1/s][b/r_][a/r] and \n",
    "       (forall r,s,t,r_,s_,t_ . [ ...; assert pos;]) [1/t_][0/t][0/s_][1/s][b/r_][a/r]\n",
    "    \n",
    "= # 7), 9), 5), 3) \n",
    "pre -> inv[1/t_][0/t][0/s_][1/s][b/r_][a/r] and  # init\n",
    "       (forall r,s,t,r_,s_,t_ .                                                                       # \n",
    "           ((r_ != 0 and inv) ->                                                                      # pres\n",
    "             inv[[(t - q × t_)/t_][t_/t][(s − q × s_)/s_][s_/s][(r − q × r_)/r_][r_/r]][(r div r_)/q] #\n",
    "           )                                          \n",
    "                                        and\n",
    "                           ((not(r_ != 0) and inv)) -> pos  # util\n",
    "       \n",
    "       \n",
    "```"
   ]
  },
  {
   "cell_type": "markdown",
   "id": "45ad531a",
   "metadata": {},
   "source": [
    "Código em python que representa as asserções lógicas que servirão para provar a veracidade do invariante, $\\text{init_WPC}$ (inicialização), $\\text{pres_WPC}$ (preservação) e $\\text{util_WPC}$ (utilidade) obtidas pelo processo de transformação:"
   ]
  },
  {
   "cell_type": "code",
   "execution_count": 3,
   "id": "852a0c82",
   "metadata": {},
   "outputs": [],
   "source": [
    "r_ = Symbol('r_',INT)\n",
    "s_ = Symbol('s_',INT)\n",
    "t_ = Symbol('t_',INT)\n",
    "q =  Symbol('q',INT)\n",
    "\n",
    "init_WPC = substitute(inv(r,a,b,s,t),{t_:Int(1), t:Int(0), s_:Int(0), s:Int(1), r_:Int(b), r:Int(a)})\n",
    "pres_WPC = Implies(And(Not(Equals(r_,Int(0))), inv(r,a,b,s,t)),\n",
    "                                    substitute(\n",
    "                                        substitute(\n",
    "                                           inv(r,a,b,s,t),\n",
    "                                           {t_:(t - (q * t_)),t:t_,\n",
    "                                            s_:(s - (q * s_)),s:s_,\n",
    "                                            r_:(r - (q * r_)),r:r_}\n",
    "                                                  ),\n",
    "                                        {q:Div(r, r_)})\n",
    "                  )\n",
    "util_WPC = Implies(And(Equals(r_,Int(0)),inv(r,a,b,s,t)),pos)\n"
   ]
  },
  {
   "cell_type": "markdown",
   "id": "363475d3",
   "metadata": {},
   "source": [
    "A seguinte função \"prove(f)\", retirada da Ficha 7, vai servir para provar a correçao do programa em LPA"
   ]
  },
  {
   "cell_type": "code",
   "execution_count": 4,
   "id": "58669680",
   "metadata": {},
   "outputs": [],
   "source": [
    "def prove(f):\n",
    "    with Solver(name=\"z3\") as s:\n",
    "        s.add_assertion(Not(f))\n",
    "        if s.solve():\n",
    "            print(\"Failed to prove.\")\n",
    "        else:\n",
    "            print(\"Proved.\")"
   ]
  },
  {
   "cell_type": "markdown",
   "id": "f9f5b981",
   "metadata": {},
   "source": [
    "O próximo excerto de código em python, vai ser usado para provar a tal correção sendo \"$\\text{vc_WPC}$\" a variável que representa o programa todo"
   ]
  },
  {
   "cell_type": "code",
   "execution_count": 4,
   "id": "69140b47",
   "metadata": {},
   "outputs": [
    {
     "name": "stdout",
     "output_type": "stream",
     "text": [
      "Proved.\n",
      "Failed to prove.\n",
      "Failed to prove.\n",
      "Proved.\n"
     ]
    }
   ],
   "source": [
    "gcd = Symbol('gcd', FunctionType(INT,[INT,INT]))\n",
    "Sa = Symbol('Sa',INT)\n",
    "Sb = Symbol('Sb',INT)\n",
    "\n",
    "ax1 = Equals(gcd(Sa,Int(0)),Sa)\n",
    "ax3 = ForAll([Sa,Sb], Implies(GT(Sa,Sb),Ite(LT(Sa-Sb,Sb),Equals(gcd(Sa,Sb),gcd(Sb,Sa-Sb)),Equals(gcd(Sa,Sb),Sb))))\n",
    "axioms = And(ax1,ax3)\n",
    "\n",
    "vc_WPC = Implies(pre , And(init_WPC,ForAll([r,r_,s,s_,t,t_],And(pres_WPC,util_WPC))))\n",
    "\n",
    "prove(Implies(pre,init_WPC))\n",
    "prove(ForAll([r,r_,s,s_,t,t_,q],pres_WPC))\n",
    "prove(vc_WPC)\n",
    "\n",
    "prove(Implies(axioms,Equals(gcd(Int(a),Int(b)),Int(14))))"
   ]
  },
  {
   "cell_type": "markdown",
   "id": "01fa9528",
   "metadata": {},
   "source": [
    "### Denotação lógica com SPC"
   ]
  },
  {
   "cell_type": "markdown",
   "id": "5991fa2c",
   "metadata": {},
   "source": [
    "Apartir daqui o trabalho está imcompleto, e por sua vez não dá pra provar a correção do código em denotação lógica usando a técnica SPC"
   ]
  },
  {
   "cell_type": "markdown",
   "id": "0027fd24",
   "metadata": {},
   "source": [
    "Para que a traduçao de programa de fluxos para LPA faça sentido, tivemos que mudar ligeiramente o código original.\n",
    "\n",
    "##### Mudança de nome de variáveis:"
   ]
  },
  {
   "cell_type": "markdown",
   "id": "23185cd8",
   "metadata": {},
   "source": [
    "```Python\n",
    "assume pre;\n",
    "r, r_, s, s_, t, t_ = a, b, 1, 0, 0, 1;\n",
    "rdic = {}; r_dic = {}; sdic = {}; s_dic = {}; tdic = {}; t_dic = {};\n",
    "rdic[0] = r;\n",
    "r_dic[0] = r_;\n",
    "sdic[0] = s;\n",
    "s_dic[0] = s_;\n",
    "tdic[0] = t;\n",
    "t_dic[0] = t_;\n",
    "i = 0;\n",
    "\n",
    "assert inv;\n",
    "[havoc i; # havoc r; havoc s; havoc t; havoc r_; havoc s_; havoc t_;\n",
    "\n",
    "( assume r_dic[i] != 0 and inv; # init\n",
    "  \n",
    "   q = rdic[i] div r_dic[i];                                  #                                                    \n",
    "   rdic[i+1] = r_dic[i]; r_dic[i+1] = rdic[i] − q × r_dic[i]; #\n",
    "   sdic[i+1] = s_dic[i]; s_dic[i+1] = sdic[i] − q × s_dic[i]; # \n",
    "   tdic[i+1] = t_dic[i]; t_dic[i+1] = tdic[i] − q × t_dic[i]; # pres\n",
    "                                                              #\n",
    "   assert inv; assume False;)                                 #\n",
    " \n",
    "|| \n",
    "   assume not(r_dic[i] != 0) and inv;]                         #\n",
    "                                                               # util\n",
    "assert pos;                                                    #\n",
    "```"
   ]
  },
  {
   "cell_type": "markdown",
   "id": "aaccdd10",
   "metadata": {},
   "source": [
    "##### Novas variáveis usadas\n",
    "\n",
    "\"--dic\" é um dicionário de variáveis lógicas (keys:nº identificador da variável;values: o que representa a variável), que estará constantemente a crescer, consoante a necessidade de criar variáveis novas, onde \"--\" é:\n",
    "\n",
    "- $\\text{r}$\n",
    "- $\\text{r'}$\n",
    "- $\\text{s}$\n",
    "- $\\text{s'}$\n",
    "- $\\text{t}$\n",
    "- $\\text{t'}$"
   ]
  },
  {
   "cell_type": "markdown",
   "id": "ccd2726a",
   "metadata": {},
   "source": [
    "Strongest Post-Codition\n",
    "\n",
    "\n",
    "$\n",
    "\\begin{array}{l}\n",
    "1) [{\\sf skip}] = True \\\\\n",
    "2) [{\\sf assume}\\:\\phi] = \\phi \\\\\n",
    "3) [{\\sf assert}\\:\\phi] = \\phi \\\\\n",
    "4) [x = e ] = (x = e)\\\\\n",
    "5) [(C_1 || C_2)] = [C_1] \\vee [C_2] \\\\\n",
    "\\\\\n",
    "6) [C \\, ; {\\sf skip}\\;] = [C] \\\\\n",
    "7) [C \\, ;{\\sf assume}\\:\\phi] = [C] \\wedge \\phi \\\\\n",
    "8) [C \\, ;{\\sf assert}\\:\\phi] = [C] \\to \\phi \\\\\n",
    "9) [ C \\, ; x = e ] = [C] \\wedge (x = e)\\\\\n",
    "10) [C\\,; (C_1 || C_2)] = [(C ; C_1) || (C; C_2)] \\\\\n",
    "11) [{\\sf havoc}\\; x \\; ; C] = \\forall x. \\,[C]\n",
    "\\end{array}\n",
    "$"
   ]
  },
  {
   "cell_type": "markdown",
   "id": "09bea9ae",
   "metadata": {},
   "source": [
    "#### Processo de transformação em passos"
   ]
  },
  {
   "cell_type": "markdown",
   "id": "f1cdd660",
   "metadata": {},
   "source": [
    "```Python\n",
    "[assume pre;\n",
    "r, r_, s, s_, t, t_ = a, b, 1, 0, 0, 1;\n",
    "rdic = {}; r_dic = {}; sdic = {}; s_dic = {}; tdic = {}; t_dic = {}\n",
    "rdic[0] = r;\n",
    "r_dic[0] = r_;\n",
    "sdic[0] = s;\n",
    "s_dic[0] = s_;\n",
    "tdic[0] = t;\n",
    "t_dic[0] = t_;\n",
    "i = 0;\n",
    "\n",
    "(assert inv;\n",
    "havoc i; # havoc r_; havoc s_; havoc t_;\n",
    "\n",
    "[( assume r_dic[i] != 0 and inv;                               \n",
    "  \n",
    "   q = rdic[i] div r_dic[i];                                                                                       \n",
    "   rdic[i+1] = r_dic[i]; r_dic[i+1] = rdic[i] − q × r_dic[i]; \n",
    "   sdic[i+1] = s_dic[i]; s_dic[i+1] = sdic[i] − q × s_dic[i]; \n",
    "   tdic[i+1] = t_dic[i]; t_dic[i+1] = tdic[i] − q × t_dic[i]; \n",
    "                                                    \n",
    "   assert inv; assume False;)                                  \n",
    " \n",
    "|| \n",
    "   assume not(r_dic[i] != 0) and inv;])                         \n",
    "                                                               \n",
    "assert pos;]\n",
    "#################################################################################################\n",
    "\n",
    "=      \n",
    "\n",
    "([assume pre;\n",
    "r, r_, s, s_, t, t_ = a, b, 1, 0, 0, 1;\n",
    "rdic = {}; r_dic = {}; sdic = {}; s_dic = {}; tdic = {}; t_dic = {}\n",
    "rdic[0] = r;\n",
    "r_dic[0] = r_;\n",
    "sdic[0] = s;\n",
    "s_dic[0] = s_;\n",
    "tdic[0] = t;\n",
    "t_dic[0] = t_;\n",
    "i = 0;\n",
    "  \n",
    "(assert inv;\n",
    "havoc i; # havoc r_; havoc s_; havoc t_;\n",
    "\n",
    "( assume r_dic[i] != 0 and inv;                               \n",
    "  \n",
    "   q = rdic[i] div r_dic[i];                                                                                       \n",
    "   rdic[i+1] = r_dic[i]; r_dic[i+1] = rdic[i] − q × r_dic[i]; \n",
    "   sdic[i+1] = s_dic[i]; s_dic[i+1] = sdic[i] − q × s_dic[i]; \n",
    "   tdic[i+1] = t_dic[i]; t_dic[i+1] = tdic[i] − q × t_dic[i];\n",
    " \n",
    "   assert inv; assume False;))                                  \n",
    " \n",
    "]|| \n",
    "   [... ; assume not(r_dic[i] != 0) and inv;]\n",
    ")\n",
    "-> pos # 8) e 10)\n",
    "\n",
    "#################################################################################################\n",
    "\n",
    "=\n",
    "\n",
    "[pre and                                                                                     # 2\n",
    "r == a and r_ == b and s == 1 and s_ == 0 and t == 0 and t_ == 1 and                         # 9 sucessivos\n",
    "  \n",
    "rdic == {} and r_dic == {} and sdic == {} and s_dic == {} and tdic == {} and t_dic == {} and # 9 sucessivos\n",
    "  \n",
    "rdic[0] == r and         #\n",
    "r_dic[0] == r_ and       #\n",
    "sdic[0] == s and         #\n",
    "s_dic[0] == s_ and       # 9 sucessivos\n",
    "tdic[0] == t and         #\n",
    "t_dic[0] == t_ and       #\n",
    "i == 0                   #\n",
    "\n",
    "-> inv;                  # 8\n",
    "  \n",
    "havoc i; \n",
    "\n",
    "( assume r_dic[i] != 0 and inv;                               \n",
    "  \n",
    "   q = rdic[i] div r_dic[i];                                                                                       \n",
    "   rdic[i+1] = r_dic[i]; r_dic[i+1] = rdic[i] − q × r_dic[i]; \n",
    "   sdic[i+1] = s_dic[i]; s_dic[i+1] = sdic[i] − q × s_dic[i]; \n",
    "   tdic[i+1] = t_dic[i]; t_dic[i+1] = tdic[i] − q × t_dic[i];\n",
    " \n",
    "   assert inv; assume False;)                                  \n",
    " \n",
    "]|| \n",
    "    [pre and                                                                                      # 2\n",
    "     r == a and r_ == b and s == 1 and s_ == 0 and t == 0 and t_ == 1 and                         # 9 sucessivos\n",
    "  \n",
    "     rdic == {} and r_dic == {} and sdic == {} and s_dic == {} and tdic == {} and t_dic == {} and # 9 sucessivos\n",
    "  \n",
    "     rdic[0] == r and         #\n",
    "     r_dic[0] == r_ and       #\n",
    "     sdic[0] == s and         #\n",
    "     s_dic[0] == s_ and       # 9 sucessivos\n",
    "     tdic[0] == t and         #\n",
    "     t_dic[0] == t_ and       #\n",
    "     i == 0                   #\n",
    "\n",
    "     -> inv;                  # 8\n",
    "     \n",
    "     havoc i; not(r_dic[i] != 0) and inv;]  \n",
    "\n",
    "-> pos\n",
    "\n",
    "#############################################################################################\n",
    "\n",
    "=\n",
    "\n",
    "([pre and                                                                                     \n",
    "r == a and r_ == b and s == 1 and s_ == 0 and t == 0 and t_ == 1 and                         \n",
    "  \n",
    "rdic == {} and r_dic == {} and sdic == {} and s_dic == {} and tdic == {} and t_dic == {} and \n",
    "  \n",
    "rdic[0] == r and         \n",
    "r_dic[0] == r_ and       \n",
    "sdic[0] == s and         \n",
    "s_dic[0] == s_ and       \n",
    "tdic[0] == t and         \n",
    "t_dic[0] == t_ and       \n",
    "i == 0                   \n",
    "\n",
    "-> inv and                     # 9                \n",
    "  \n",
    "forall i.                      # 11                                                #\n",
    "                                                                                   #\n",
    "(         r_dic[i] != 0 and inv and                                          # 2   #                                  \n",
    "                                                                                   # Tudo isto   \n",
    "          q == rdic[i] div r_dic[i] and                                      #     #                                     \n",
    "          rdic[i+1] == r_dic[i] and r_dic[i+1] == rdic[i] − q × r_dic[i] and #     # é igual a\n",
    "          sdic[i+1] == s_dic[i] and s_dic[i+1] == sdic[i] − q × s_dic[i] and # 9   #\n",
    "          tdic[i+1] == t_dic[i] and t_dic[i+1] == tdic[i] − q × t_dic[i]    #      # False por causa                          \n",
    "          -> inv        # 8                                                        # \n",
    "             and False) # 7                                                        # <- desta linha\n",
    " \n",
    "] or  # 5\n",
    "     [pre and                                                                                      \n",
    "             r == a and r_ == b and s == 1 and s_ == 0 and t == 0 and t_ == 1 and                         \n",
    "  \n",
    "             rdic == {} and r_dic == {} and sdic == {} and s_dic == {} and tdic == {} and t_dic == {} and \n",
    "  \n",
    "             rdic[0] == r and         \n",
    "             r_dic[0] == r_ and       \n",
    "             sdic[0] == s and         \n",
    "             s_dic[0] == s_ and       \n",
    "             tdic[0] == t and         \n",
    "             t_dic[0] == t_ and       \n",
    "             i == 0                   \n",
    "\n",
    "     -> inv and  # 9                                            \n",
    "     \n",
    "                 forall i. not(r_dic[i] != 0) and inv]  # 11 e 7\n",
    "\n",
    "-> pos)\n",
    "```"
   ]
  },
  {
   "cell_type": "markdown",
   "id": "a0c9835a",
   "metadata": {},
   "source": [
    "Código em python que representa as asserções lógicas que servirão para provar a veracidade do invariante, $\\text{Before_while}$ (inicialização), $\\text{C1}$ (preservação) e $\\text{C2}$ (utilidade) obtidas pelo processo de transformação (imcompleto), e uma tentativa de provar a correção do programa em denotaçao SPC:"
   ]
  },
  {
   "cell_type": "code",
   "execution_count": 6,
   "id": "57c7eb8e",
   "metadata": {},
   "outputs": [
    {
     "ename": "AttributeError",
     "evalue": "'int' object has no attribute 'node_type'",
     "output_type": "error",
     "traceback": [
      "\u001b[1;31m---------------------------------------------------------------------------\u001b[0m",
      "\u001b[1;31mAttributeError\u001b[0m                            Traceback (most recent call last)",
      "Cell \u001b[1;32mIn[6], line 30\u001b[0m\n\u001b[0;32m     27\u001b[0m t_dic[Int(\u001b[38;5;241m0\u001b[39m)] \u001b[38;5;241m=\u001b[39m declare_var(\u001b[38;5;124m\"\u001b[39m\u001b[38;5;124mt_\u001b[39m\u001b[38;5;124m\"\u001b[39m,rdic,\u001b[38;5;241m0\u001b[39m)\n\u001b[0;32m     28\u001b[0m qdic[Int(\u001b[38;5;241m0\u001b[39m)] \u001b[38;5;241m=\u001b[39m declare_var(\u001b[38;5;124m\"\u001b[39m\u001b[38;5;124mq\u001b[39m\u001b[38;5;124m\"\u001b[39m,rdic,\u001b[38;5;241m0\u001b[39m)\n\u001b[1;32m---> 30\u001b[0m Before_while \u001b[38;5;241m=\u001b[39m Implies(And(pre,Equals(r,Int(a)),Equals(r_,Int(b)),Equals(s,Int(\u001b[38;5;241m1\u001b[39m)),Equals(s_,Int(\u001b[38;5;241m0\u001b[39m)),Equals(t,Int(\u001b[38;5;241m0\u001b[39m)),Equals(t_,Int(\u001b[38;5;241m1\u001b[39m))\n\u001b[0;32m     31\u001b[0m                           ,Equals(rdic[\u001b[38;5;241m0\u001b[39m],r),Equals(sdic[\u001b[38;5;241m0\u001b[39m],s),Equals(tdic[\u001b[38;5;241m0\u001b[39m],t)\n\u001b[0;32m     32\u001b[0m                           ,Equals(r_dic[\u001b[38;5;241m0\u001b[39m],r_),Equals(s_dic[\u001b[38;5;241m0\u001b[39m],s_),Equals(t_dic[\u001b[38;5;241m0\u001b[39m],t_),Equals(i,Int(\u001b[38;5;241m0\u001b[39m)))\n\u001b[0;32m     33\u001b[0m                    ,inv)\n\u001b[0;32m     36\u001b[0m C1 \u001b[38;5;241m=\u001b[39m And(Before_while, ForAll([i],Implies(And(Not(Equals(r_dic[i],Int(\u001b[38;5;241m0\u001b[39m))),inv,Equals(qdic[i],Div(rdic[i],r_dic[i])),\n\u001b[0;32m     37\u001b[0m                                               Equals(rdic[i\u001b[38;5;241m+\u001b[39m\u001b[38;5;241m1\u001b[39m],r_dic[i]), Equals(r_dic[i\u001b[38;5;241m+\u001b[39m\u001b[38;5;241m1\u001b[39m],rdic[i] \u001b[38;5;241m-\u001b[39m (qdic[i] \u001b[38;5;241m*\u001b[39m r_dic[i])),\n\u001b[0;32m     38\u001b[0m                                               Equals(sdic[i\u001b[38;5;241m+\u001b[39m\u001b[38;5;241m1\u001b[39m],s_dic[i]), Equals(s_dic[i\u001b[38;5;241m+\u001b[39m\u001b[38;5;241m1\u001b[39m],sdic[i] \u001b[38;5;241m-\u001b[39m (qdic[i] \u001b[38;5;241m*\u001b[39m s_dic[i])),\n\u001b[0;32m     39\u001b[0m                                               Equals(tdic[i\u001b[38;5;241m+\u001b[39m\u001b[38;5;241m1\u001b[39m],t_dic[i]), Equals(t_dic[i\u001b[38;5;241m+\u001b[39m\u001b[38;5;241m1\u001b[39m],tdic[i] \u001b[38;5;241m-\u001b[39m (qdic[i] \u001b[38;5;241m*\u001b[39m t_dic[i])))\n\u001b[0;32m     40\u001b[0m                                          ,And(inv,\u001b[38;5;28;01mFalse\u001b[39;00m))))\n\u001b[0;32m     42\u001b[0m C2 \u001b[38;5;241m=\u001b[39m And(Before_while, ForAll([i],And(Equals(r_dic[Int(\u001b[38;5;28mlen\u001b[39m(r_dic)\u001b[38;5;241m-\u001b[39m\u001b[38;5;241m1\u001b[39m)],Int(\u001b[38;5;241m0\u001b[39m)),inv)))\n",
      "File \u001b[1;32m~\\anaconda3\\envs\\logica\\Lib\\site-packages\\pysmt\\shortcuts.py:209\u001b[0m, in \u001b[0;36mEquals\u001b[1;34m(left, right)\u001b[0m\n\u001b[0;32m    207\u001b[0m \u001b[38;5;28;01mdef\u001b[39;00m \u001b[38;5;21mEquals\u001b[39m(left, right):\n\u001b[0;32m    208\u001b[0m \u001b[38;5;250m    \u001b[39m\u001b[38;5;124mr\u001b[39m\u001b[38;5;124;03m\"\"\".. math:: l = r\"\"\"\u001b[39;00m\n\u001b[1;32m--> 209\u001b[0m     \u001b[38;5;28;01mreturn\u001b[39;00m get_env()\u001b[38;5;241m.\u001b[39mformula_manager\u001b[38;5;241m.\u001b[39mEquals(left, right)\n",
      "File \u001b[1;32m~\\anaconda3\\envs\\logica\\Lib\\site-packages\\pysmt\\formula.py:284\u001b[0m, in \u001b[0;36mFormulaManager.Equals\u001b[1;34m(self, left, right)\u001b[0m\n\u001b[0;32m    279\u001b[0m \u001b[38;5;28;01mdef\u001b[39;00m \u001b[38;5;21mEquals\u001b[39m(\u001b[38;5;28mself\u001b[39m, left, right):\n\u001b[0;32m    280\u001b[0m \u001b[38;5;250m    \u001b[39m\u001b[38;5;124;03m\"\"\" Creates an expression of the form: left = right\u001b[39;00m\n\u001b[0;32m    281\u001b[0m \n\u001b[0;32m    282\u001b[0m \u001b[38;5;124;03m    For the boolean case use Iff\u001b[39;00m\n\u001b[0;32m    283\u001b[0m \u001b[38;5;124;03m    \"\"\"\u001b[39;00m\n\u001b[1;32m--> 284\u001b[0m     \u001b[38;5;28;01mreturn\u001b[39;00m \u001b[38;5;28mself\u001b[39m\u001b[38;5;241m.\u001b[39mcreate_node(node_type\u001b[38;5;241m=\u001b[39mop\u001b[38;5;241m.\u001b[39mEQUALS,\n\u001b[0;32m    285\u001b[0m                             args\u001b[38;5;241m=\u001b[39m(left, right))\n",
      "File \u001b[1;32m~\\anaconda3\\envs\\logica\\Lib\\site-packages\\pysmt\\formula.py:96\u001b[0m, in \u001b[0;36mFormulaManager.create_node\u001b[1;34m(self, node_type, args, payload)\u001b[0m\n\u001b[0;32m     94\u001b[0m \u001b[38;5;28mself\u001b[39m\u001b[38;5;241m.\u001b[39m_next_free_id \u001b[38;5;241m+\u001b[39m\u001b[38;5;241m=\u001b[39m \u001b[38;5;241m1\u001b[39m\n\u001b[0;32m     95\u001b[0m \u001b[38;5;28mself\u001b[39m\u001b[38;5;241m.\u001b[39mformulae[content] \u001b[38;5;241m=\u001b[39m n\n\u001b[1;32m---> 96\u001b[0m \u001b[38;5;28mself\u001b[39m\u001b[38;5;241m.\u001b[39m_do_type_check(n)\n\u001b[0;32m     97\u001b[0m \u001b[38;5;28;01mreturn\u001b[39;00m n\n",
      "File \u001b[1;32m~\\anaconda3\\envs\\logica\\Lib\\site-packages\\pysmt\\formula.py:81\u001b[0m, in \u001b[0;36mFormulaManager._do_type_check_real\u001b[1;34m(self, formula)\u001b[0m\n\u001b[0;32m     80\u001b[0m \u001b[38;5;28;01mdef\u001b[39;00m \u001b[38;5;21m_do_type_check_real\u001b[39m(\u001b[38;5;28mself\u001b[39m, formula):\n\u001b[1;32m---> 81\u001b[0m     \u001b[38;5;28mself\u001b[39m\u001b[38;5;241m.\u001b[39mget_type(formula)\n",
      "File \u001b[1;32m~\\anaconda3\\envs\\logica\\Lib\\site-packages\\pysmt\\type_checker.py:43\u001b[0m, in \u001b[0;36mSimpleTypeChecker.get_type\u001b[1;34m(self, formula)\u001b[0m\n\u001b[0;32m     41\u001b[0m \u001b[38;5;28;01mdef\u001b[39;00m \u001b[38;5;21mget_type\u001b[39m(\u001b[38;5;28mself\u001b[39m, formula):\n\u001b[0;32m     42\u001b[0m \u001b[38;5;250m    \u001b[39m\u001b[38;5;124;03m\"\"\" Returns the pysmt.types type of the formula \"\"\"\u001b[39;00m\n\u001b[1;32m---> 43\u001b[0m     res \u001b[38;5;241m=\u001b[39m \u001b[38;5;28mself\u001b[39m\u001b[38;5;241m.\u001b[39mwalk(formula)\n\u001b[0;32m     44\u001b[0m     \u001b[38;5;28;01mif\u001b[39;00m \u001b[38;5;129;01mnot\u001b[39;00m \u001b[38;5;28mself\u001b[39m\u001b[38;5;241m.\u001b[39mbe_nice \u001b[38;5;129;01mand\u001b[39;00m res \u001b[38;5;129;01mis\u001b[39;00m \u001b[38;5;28;01mNone\u001b[39;00m:\n\u001b[0;32m     45\u001b[0m         \u001b[38;5;28;01mraise\u001b[39;00m PysmtTypeError(\u001b[38;5;124m\"\u001b[39m\u001b[38;5;124mThe formula \u001b[39m\u001b[38;5;124m'\u001b[39m\u001b[38;5;132;01m%s\u001b[39;00m\u001b[38;5;124m'\u001b[39m\u001b[38;5;124m is not well-formed\u001b[39m\u001b[38;5;124m\"\u001b[39m \\\n\u001b[0;32m     46\u001b[0m                              \u001b[38;5;241m%\u001b[39m \u001b[38;5;28mstr\u001b[39m(formula))\n",
      "File \u001b[1;32m~\\anaconda3\\envs\\logica\\Lib\\site-packages\\pysmt\\walkers\\dag.py:106\u001b[0m, in \u001b[0;36mDagWalker.walk\u001b[1;34m(self, formula, **kwargs)\u001b[0m\n\u001b[0;32m    103\u001b[0m \u001b[38;5;28;01mif\u001b[39;00m formula \u001b[38;5;129;01min\u001b[39;00m \u001b[38;5;28mself\u001b[39m\u001b[38;5;241m.\u001b[39mmemoization:\n\u001b[0;32m    104\u001b[0m     \u001b[38;5;28;01mreturn\u001b[39;00m \u001b[38;5;28mself\u001b[39m\u001b[38;5;241m.\u001b[39mmemoization[formula]\n\u001b[1;32m--> 106\u001b[0m res \u001b[38;5;241m=\u001b[39m \u001b[38;5;28mself\u001b[39m\u001b[38;5;241m.\u001b[39miter_walk(formula, \u001b[38;5;241m*\u001b[39m\u001b[38;5;241m*\u001b[39mkwargs)\n\u001b[0;32m    108\u001b[0m \u001b[38;5;28;01mif\u001b[39;00m \u001b[38;5;28mself\u001b[39m\u001b[38;5;241m.\u001b[39minvalidate_memoization:\n\u001b[0;32m    109\u001b[0m     \u001b[38;5;28mself\u001b[39m\u001b[38;5;241m.\u001b[39mmemoization\u001b[38;5;241m.\u001b[39mclear()\n",
      "File \u001b[1;32m~\\anaconda3\\envs\\logica\\Lib\\site-packages\\pysmt\\walkers\\dag.py:98\u001b[0m, in \u001b[0;36mDagWalker.iter_walk\u001b[1;34m(self, formula, **kwargs)\u001b[0m\n\u001b[0;32m     96\u001b[0m \u001b[38;5;250m\u001b[39m\u001b[38;5;124;03m\"\"\"Performs an iterative walk of the DAG\"\"\"\u001b[39;00m\n\u001b[0;32m     97\u001b[0m \u001b[38;5;28mself\u001b[39m\u001b[38;5;241m.\u001b[39mstack\u001b[38;5;241m.\u001b[39mappend((\u001b[38;5;28;01mFalse\u001b[39;00m, formula))\n\u001b[1;32m---> 98\u001b[0m \u001b[38;5;28mself\u001b[39m\u001b[38;5;241m.\u001b[39m_process_stack(\u001b[38;5;241m*\u001b[39m\u001b[38;5;241m*\u001b[39mkwargs)\n\u001b[0;32m     99\u001b[0m res_key \u001b[38;5;241m=\u001b[39m \u001b[38;5;28mself\u001b[39m\u001b[38;5;241m.\u001b[39m_get_key(formula, \u001b[38;5;241m*\u001b[39m\u001b[38;5;241m*\u001b[39mkwargs)\n\u001b[0;32m    100\u001b[0m \u001b[38;5;28;01mreturn\u001b[39;00m \u001b[38;5;28mself\u001b[39m\u001b[38;5;241m.\u001b[39mmemoization[res_key]\n",
      "File \u001b[1;32m~\\anaconda3\\envs\\logica\\Lib\\site-packages\\pysmt\\walkers\\dag.py:91\u001b[0m, in \u001b[0;36mDagWalker._process_stack\u001b[1;34m(self, **kwargs)\u001b[0m\n\u001b[0;32m     89\u001b[0m (was_expanded, formula) \u001b[38;5;241m=\u001b[39m \u001b[38;5;28mself\u001b[39m\u001b[38;5;241m.\u001b[39mstack\u001b[38;5;241m.\u001b[39mpop()\n\u001b[0;32m     90\u001b[0m \u001b[38;5;28;01mif\u001b[39;00m was_expanded:\n\u001b[1;32m---> 91\u001b[0m     \u001b[38;5;28mself\u001b[39m\u001b[38;5;241m.\u001b[39m_compute_node_result(formula, \u001b[38;5;241m*\u001b[39m\u001b[38;5;241m*\u001b[39mkwargs)\n\u001b[0;32m     92\u001b[0m \u001b[38;5;28;01melse\u001b[39;00m:\n\u001b[0;32m     93\u001b[0m     \u001b[38;5;28mself\u001b[39m\u001b[38;5;241m.\u001b[39m_push_with_children_to_stack(formula, \u001b[38;5;241m*\u001b[39m\u001b[38;5;241m*\u001b[39mkwargs)\n",
      "File \u001b[1;32m~\\anaconda3\\envs\\logica\\Lib\\site-packages\\pysmt\\walkers\\dag.py:69\u001b[0m, in \u001b[0;36mDagWalker._compute_node_result\u001b[1;34m(self, formula, **kwargs)\u001b[0m\n\u001b[0;32m     67\u001b[0m \u001b[38;5;28;01mif\u001b[39;00m key \u001b[38;5;129;01mnot\u001b[39;00m \u001b[38;5;129;01min\u001b[39;00m \u001b[38;5;28mself\u001b[39m\u001b[38;5;241m.\u001b[39mmemoization:\n\u001b[0;32m     68\u001b[0m     \u001b[38;5;28;01mtry\u001b[39;00m:\n\u001b[1;32m---> 69\u001b[0m         f \u001b[38;5;241m=\u001b[39m \u001b[38;5;28mself\u001b[39m\u001b[38;5;241m.\u001b[39mfunctions[formula\u001b[38;5;241m.\u001b[39mnode_type()]\n\u001b[0;32m     70\u001b[0m     \u001b[38;5;28;01mexcept\u001b[39;00m \u001b[38;5;167;01mKeyError\u001b[39;00m:\n\u001b[0;32m     71\u001b[0m         f \u001b[38;5;241m=\u001b[39m \u001b[38;5;28mself\u001b[39m\u001b[38;5;241m.\u001b[39mwalk_error\n",
      "\u001b[1;31mAttributeError\u001b[0m: 'int' object has no attribute 'node_type'"
     ]
    }
   ],
   "source": [
    "r = Symbol('r',INT)\n",
    "s = Symbol('s',INT)\n",
    "t = Symbol('t',INT)\n",
    "r_ = Symbol('r_',INT)\n",
    "s_ = Symbol('s_',INT)\n",
    "t_ = Symbol('t_',INT)\n",
    "q =  Symbol('q',INT)\n",
    "i =  Symbol('i',INT)\n",
    "\n",
    "rdic = {}\n",
    "r_dic = {}\n",
    "sdic = {}\n",
    "s_dic = {}\n",
    "tdic = {}\n",
    "t_dic = {}\n",
    "qdic = {}\n",
    "\n",
    "def declare_var(string,dict_,i):\n",
    "    dict_[i] = Symbol(f'{string}'+str(i),INT)\n",
    "    return dict_[i]\n",
    "\n",
    "rdic[Int(0)] = declare_var(\"r\",rdic,0)          \n",
    "r_dic[Int(0)] = declare_var(\"r_\",rdic,0)      \n",
    "sdic[Int(0)] = declare_var(\"s\",rdic,0)         \n",
    "s_dic[Int(0)] = declare_var(\"s_\",rdic,0)       \n",
    "tdic[Int(0)] = declare_var(\"t\",rdic,0)         \n",
    "t_dic[Int(0)] = declare_var(\"t_\",rdic,0)\n",
    "#qdic[Int(0)] = declare_var(\"q\",rdic,0)\n",
    "\n",
    "Before_while = Implies(And(pre,Equals(r,Int(a)),Equals(r_,Int(b)),Equals(s,Int(1)),Equals(s_,Int(0)),Equals(t,Int(0)),Equals(t_,Int(1))\n",
    "                          ,Equals(rdic[0],r),Equals(sdic[0],s),Equals(tdic[0],t)\n",
    "                          ,Equals(r_dic[0],r_),Equals(s_dic[0],s_),Equals(t_dic[0],t_),Equals(i,Int(0)))\n",
    "                   ,inv)\n",
    "\n",
    "\n",
    "C1 = And(Before_while, ForAll([i],Implies(And(Not(Equals(r_dic[i],Int(0))),inv,Equals(declare_var(\"q\",qdic,i),Div(rdic[i],r_dic[i])),\n",
    "                        Equals(declare_var(\"r\",rdic,i+Int(1)),r_dic[i]), Equals(declare_var(\"r_\",r_dic,i+Int(1)),rdic[i] - (qdic[i] * r_dic[i])),\n",
    "                        Equals(declare_var(\"s\",sdic,i+Int(1)),s_dic[i]), Equals(declare_var(\"s_\",s_dic,i+Int(1)),sdic[i] - (qdic[i] * s_dic[i])),\n",
    "                        Equals(declare_var(\"t\",tdic,i+Int(1)),t_dic[i]), Equals(declare_var(\"t_\",t_dic,i+Int(1)),tdic[i] - (qdic[i] * t_dic[i])))\n",
    "                                         ,And(inv,False))))\n",
    "\n",
    "C2 = And(Before_while, ForAll([i],And(Equals(r_dic[Int(len(r_dic)-Int(1))],Int(0)),inv)))\n",
    "\n",
    "vc_SPC = (Or(C1,C2),pos)\n",
    "\n",
    "prove(vc_SPC)"
   ]
  },
  {
   "cell_type": "code",
   "execution_count": null,
   "id": "6e4a5e61",
   "metadata": {},
   "outputs": [],
   "source": []
  }
 ],
 "metadata": {
  "kernelspec": {
   "display_name": "Python 3 (ipykernel)",
   "language": "python",
   "name": "python3"
  },
  "language_info": {
   "codemirror_mode": {
    "name": "ipython",
    "version": 3
   },
   "file_extension": ".py",
   "mimetype": "text/x-python",
   "name": "python",
   "nbconvert_exporter": "python",
   "pygments_lexer": "ipython3",
   "version": "3.11.5"
  }
 },
 "nbformat": 4,
 "nbformat_minor": 5
}
