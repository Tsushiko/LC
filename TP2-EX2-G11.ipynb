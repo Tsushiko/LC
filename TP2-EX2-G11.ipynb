{
 "cells": [
  {
   "cell_type": "markdown",
   "id": "836f0723",
   "metadata": {},
   "source": [
    "# **TP2 - Exercicio 1 - Grupo 11**\n",
    "\n",
    "Bruno Miguel Fernandes Araújo - A97509\n",
    "\n",
    "Tiago Emanuel Lemos Teixeira - A97666"
   ]
  },
  {
   "cell_type": "markdown",
   "id": "6820de65",
   "metadata": {},
   "source": [
    "## Implementação em Python"
   ]
  },
  {
   "cell_type": "markdown",
   "id": "1755d8e4",
   "metadata": {},
   "source": [
    "### `declare`\n",
    "A partir do argumento de entrada **i**, cria um dicionário **state** cujos elementos são formados por: \n",
    "- uma chave **cm,n** que vão caracterizar a posição da célula (m,n);\n",
    "- um valor inteiro (0 ou 1), que vai servir para distinguir se a célula está viva ou morta."
   ]
  },
  {
   "cell_type": "code",
   "execution_count": 1,
   "id": "8d089681",
   "metadata": {},
   "outputs": [],
   "source": [
    "from pysmt.shortcuts import *\n",
    "from pysmt.typing import INT\n",
    "import random \n",
    "\n",
    "def declare(i):\n",
    "    state = {}\n",
    "    for m in range(N+1):\n",
    "        for n in range(N+1):\n",
    "            state[f'c{m},{n}']=Symbol(f'c{m},{n}'+str(i),INT)\n",
    "    return state\n",
    "\n"
   ]
  },
  {
   "cell_type": "markdown",
   "id": "cf88facd",
   "metadata": {},
   "source": [
    "### `init`\n",
    "\n",
    "Recebe a matriz de células \"**state**\" que por sua vez vai ser preenchida em cada célula por 1 ou 0, de acordo com as seguintes condições:\n",
    "\n",
    "$$(i = 0 \\vee j = 0 \\rightarrow c(i,j)\\in Borda \\wedge c(i,j) = random([0,1],50\\% \\text{ de chance}))$$ \n",
    "$$\\vee$$ \n",
    "$$(i > 0 \\wedge i \\le 3 \\wedge j > 0 \\wedge j \\le 3 \\rightarrow c(i,j) \\in Quadrado(3 \\times 3) \\wedge c(i,j) = 1)$$\n",
    "$$\\vee$$\n",
    "$$(c(i,j) = 0)$$\n",
    "\n",
    "Esta função é só usada para o estado inicial.\n"
   ]
  },
  {
   "cell_type": "code",
   "execution_count": 2,
   "id": "e5a59608",
   "metadata": {},
   "outputs": [],
   "source": [
    "\n",
    "def init(state):\n",
    "\n",
    "    \n",
    "    res=[]\n",
    "    \n",
    "    for i in range(N+1):\n",
    "        for j in range(N+1):\n",
    "            \n",
    "            \n",
    "            if i==0 or j==0:\n",
    "                res.append(Equals(state[f'c{i},{j}'], Int(random.randint(0,1)))) #bordas\n",
    "                \n",
    "                \n",
    "            elif i>0 and j<=3 and j>0 and i<=3:\n",
    "                res.append(Equals(state[f'c{i},{j}'], Int(1))) # 0<i≤3 e 0<j≤3 vivas\n",
    "                \n",
    "            else:\n",
    "                res.append(Equals(state[f'c{i},{j}'], Int(0)))\n",
    "                       \n",
    "    #print(res)\n",
    "\n",
    "    if N>3:\n",
    "        return And(res)\n",
    "    \n",
    "    return"
   ]
  },
  {
   "cell_type": "markdown",
   "id": "9c2cc88b",
   "metadata": {},
   "source": [
    "### `trans`\n",
    "\n",
    "Recebe duas matrizes de células com o mesmo comprimento e largura - **curr** e **prox**. A \"**curr**\" é um estado já declarado ou provem de uma transição. Assim como a **curr**, a \"**prox**\" também é um estado já declarado, e é nela que vai ser guardado um novo estado cujos valores dependem do estado **curr** e das condições a seguir mencionadas:\n",
    "\n",
    "$$\\forall_{i,j<N+1}$$\n",
    "$$(curr[(i,j)] \\in Borda \\rightarrow curr[(i,j)]=prox[(i,j)])$$\n",
    "$$\\vee$$\n",
    "$$\\text{caso sobreviver}:(curr[(i,j)] = 1 \\wedge \\text{nº de vizinhos} = 2 \\vee \\text{nº de vizinhos} = 3 \\rightarrow prox[(i,j)] = 1)$$\n",
    "$$\\vee$$\n",
    "$$\\text{caso morrer}:(curr[(i,j)] = 1 \\wedge \\text{nº de vizinhos} != 2 \\wedge \\text{nº de vizinhos} != 3 \\rightarrow prox[(i,j)] = 0)$$\n",
    "$$\\vee$$\n",
    "$$\\text{caso nascer}: (curr[(i,j)] = 0 \\wedge \\text{nº de vizinhos} = 3 \\rightarrow prox[(i,j)] = 1)$$\n",
    "$$\\vee$$\n",
    "$$\\text{caso contrário}: prox[(i,j)] = 0$$\n"
   ]
  },
  {
   "cell_type": "code",
   "execution_count": 3,
   "id": "054e3eb1",
   "metadata": {},
   "outputs": [],
   "source": [
    "def trans(curr,prox):\n",
    "    \n",
    "    #(i0−i1=±1)∨(j0−j1=±1)\n",
    "    res = []\n",
    "    for i in range(N+1):\n",
    "        for j in range(N+1):\n",
    "            transit = []\n",
    "            \n",
    "            if i == 0 or j == 0: #células da borda\n",
    "                transit.append(Equals(curr[f'c{i},{j}'],prox[f'c{i},{j}']))\n",
    "            else:\n",
    "                if i == N and j == N: # extremo inferior direito\n",
    "                    t=i-1\n",
    "                    t_=i\n",
    "                    l=j-1\n",
    "                    l_=j\n",
    "                    \n",
    "                elif i == N and j>=1 and j!=N: # ultima linha\n",
    "                    t = i-1\n",
    "                    t_ = i\n",
    "                    l = j-1\n",
    "                    l_ = j+1\n",
    "                elif j == N and i >=1 and i != N: #ultima coluna\n",
    "                    t= i-1\n",
    "                    t_ = i+1\n",
    "                    l = j-1\n",
    "                    l_ = j\n",
    "                    \n",
    "                else: # células do \"miolo\" da matriz\n",
    "                    t=i-1\n",
    "                    t_=i+1\n",
    "                    l= j-1\n",
    "                    l_ = j+1\n",
    "                \n",
    "\n",
    "                \n",
    "                #Se estiver vivo, mantem-se vivo se tiver 2 ou 3 vizinhos vivos,-1 porque o próprio n é vizinho de si mesmo\n",
    "                transit.append(And(Equals(curr[f'c{i},{j}'],Int(1)),\n",
    "                                  Or(Equals(sum([curr[f'c{m},{n}'] for n in range(l,l_+1) for m in range(t,t_+1)])-Int(1),Int(3)),\n",
    "                                    Equals(sum([curr[f'c{m},{n}'] for n in range(l,l_+1) for m in range(t,t_+1)])-Int(1),Int(2))\n",
    "                                    ),\n",
    "                                  #Equals(prox[f'c{i},{j}'],curr[f'c{i},{j}'])\n",
    "                                  Equals(prox[f'c{i},{j}'],Int(1))\n",
    "                                 ))\n",
    "\n",
    "                #Se estiver vivo, morre se não tiver 2 ou 3 vizinhos vivos ,-1 porque o próprio n é vizinho de si mesmo\n",
    "                transit.append(And(Equals(curr[f'c{i},{j}'],Int(1)),\n",
    "                                  Not(Or(Equals(sum([curr[f'c{m},{n}'] for n in range(l,l_+1) for m in range(t,t_+1)])-Int(1),Int(3)),\n",
    "                                    Equals(sum([curr[f'c{m},{n}'] for n in range(l,l_+1) for m in range(t,t_+1)])-Int(1),Int(2))\n",
    "                                    )),\n",
    "                                  Equals(prox[f'c{i},{j}'],Int(0))\n",
    "                                 ))\n",
    "\n",
    "                #Se estiver morto, nasce se tiver 3 vizinhos vivos\n",
    "                transit.append(And(Equals(curr[f'c{i},{j}'],Int(0)),\n",
    "                                  Equals(sum([curr[f'c{m},{n}'] for n in range(l,l_+1) for m in range(t,t_+1)]),Int(3)),\n",
    "                                  Equals(prox[f'c{i},{j}'],Int(1))\n",
    "                                 ))\n",
    "\n",
    "                #Se estiver morto,mantém-se morto se não tiver 3 vizinhos vivos\n",
    "                transit.append(And(Equals(curr[f'c{i},{j}'],Int(0)),\n",
    "                                  Not(Equals(sum([curr[f'c{m},{n}'] for n in range(l,l_+1) for m in range(t,t_+1)]),Int(3))),\n",
    "                                 # Equals(prox[f'c{i},{j}'],curr[f'c{i},{j}'])\n",
    "                                  Equals(prox[f'c{i},{j}'],Int(0))\n",
    "                                  ))\n",
    "                \n",
    "            res.append(Or(transit))    \n",
    "    return And(res)"
   ]
  },
  {
   "cell_type": "markdown",
   "id": "000fd5cf",
   "metadata": {},
   "source": [
    "### `gera_traco`\n",
    "\n",
    "Esta função gera um autómato com o nome **states** declarado usando o `declare`, tendo em conta a veracidade das condições geradas pelas funções anteriormente definidas `init` e `trans`.\n",
    "\n",
    "Cada posição do **states** refere-se a um estado, sendo que o estado inicial é denotado por **states[0]** e restantes dos estados são denotados do **states[1]** ao **states[k-1]** (k é o número total de estados presentes no autómato).\n",
    "\n",
    "Finalmente, são imprimidos os resultados do **solver**, traduzindo os 0 e 1 de cada passo para ⬜ e ⬛ respetivamente, com o intuito de melhorar a leitura.\n",
    "\n",
    "\n",
    "**Nota**: só é possivel gerar o autómato se **N** for maior que 3"
   ]
  },
  {
   "cell_type": "code",
   "execution_count": 41,
   "id": "60f41f90",
   "metadata": {},
   "outputs": [
    {
     "name": "stdout",
     "output_type": "stream",
     "text": [
      ">State  0:\n",
      "\n",
      "⬛⬛⬜⬜⬜\n",
      "⬜⬛⬛⬛⬜\n",
      "⬜⬛⬛⬛⬜\n",
      "⬜⬛⬛⬛⬜\n",
      "⬛⬜⬜⬜⬜\n",
      ">State  1:\n",
      "\n",
      "⬛⬛⬜⬜⬜\n",
      "⬜⬜⬜⬛⬜\n",
      "⬜⬜⬜⬜⬛\n",
      "⬜⬜⬜⬛⬜\n",
      "⬛⬛⬛⬜⬜\n",
      ">State  2:\n",
      "\n",
      "⬛⬛⬜⬜⬜\n",
      "⬜⬜⬜⬜⬜\n",
      "⬜⬜⬜⬛⬛\n",
      "⬜⬛⬛⬛⬜\n",
      "⬛⬛⬛⬜⬜\n",
      ">State  3:\n",
      "\n",
      "⬛⬛⬜⬜⬜\n",
      "⬜⬜⬜⬜⬜\n",
      "⬜⬜⬜⬛⬛\n",
      "⬜⬜⬜⬜⬛\n",
      "⬛⬜⬜⬛⬜\n",
      ">State  4:\n",
      "\n",
      "⬛⬛⬜⬜⬜\n",
      "⬜⬜⬜⬜⬜\n",
      "⬜⬜⬜⬛⬛\n",
      "⬜⬜⬜⬜⬛\n",
      "⬛⬜⬜⬜⬜\n",
      ">State  5:\n",
      "\n",
      "⬛⬛⬜⬜⬜\n",
      "⬜⬜⬜⬜⬜\n",
      "⬜⬜⬜⬛⬛\n",
      "⬜⬜⬜⬛⬛\n",
      "⬛⬜⬜⬜⬜\n",
      ">State  6:\n",
      "\n",
      "⬛⬛⬜⬜⬜\n",
      "⬜⬜⬜⬜⬜\n",
      "⬜⬜⬜⬛⬛\n",
      "⬜⬜⬜⬛⬛\n",
      "⬛⬜⬜⬜⬜\n",
      ">State  7:\n",
      "\n",
      "⬛⬛⬜⬜⬜\n",
      "⬜⬜⬜⬜⬜\n",
      "⬜⬜⬜⬛⬛\n",
      "⬜⬜⬜⬛⬛\n",
      "⬛⬜⬜⬜⬜\n",
      ">State  8:\n",
      "\n",
      "⬛⬛⬜⬜⬜\n",
      "⬜⬜⬜⬜⬜\n",
      "⬜⬜⬜⬛⬛\n",
      "⬜⬜⬜⬛⬛\n",
      "⬛⬜⬜⬜⬜\n",
      ">State  9:\n",
      "\n",
      "⬛⬛⬜⬜⬜\n",
      "⬜⬜⬜⬜⬜\n",
      "⬜⬜⬜⬛⬛\n",
      "⬜⬜⬜⬛⬛\n",
      "⬛⬜⬜⬜⬜\n"
     ]
    }
   ],
   "source": [
    "def gera_traco(k):\n",
    "        with Solver() as solver:\n",
    "\n",
    "\n",
    "            # criar k cópias do estado\n",
    "            states = [declare(i) for i in range(k)]\n",
    "\n",
    "            # criar o traço\n",
    "            solver.add_assertion(init(states[0]))\n",
    "            for i in range(k-1):\n",
    "                solver.add_assertion(trans(states[i],states[i+1]))\n",
    "\n",
    "\n",
    "            if solver.solve():\n",
    "                for i in range(k):\n",
    "                    print(f\">State  {i}:\")\n",
    "                    res=\"\"\n",
    "                    for m in range(N+1):\n",
    "                        res+=(\"\\n\")\n",
    "                        for n in range(N+1):\n",
    "                            #res+=f\"{solver.get_value(states[i][f'c{m},{n}'])}\"\n",
    "                            if str(solver.get_value(states[i][f'c{m},{n}']))==\"0\":\n",
    "                                res+=\"⬜\"\n",
    "                            if str(solver.get_value(states[i][f'c{m},{n}']))==\"1\":\n",
    "                                res+=\"⬛\"\n",
    "\n",
    "                    print(res)\n",
    "\n",
    "\n",
    "            else:\n",
    "                print(\"Impossivel criar um caminho\")\n",
    "                \n",
    "#Exemplo\n",
    "N=4\n",
    "gera_traco(10)"
   ]
  },
  {
   "cell_type": "markdown",
   "id": "635cdb49",
   "metadata": {},
   "source": [
    "# **Provas de invariantes**"
   ]
  },
  {
   "cell_type": "markdown",
   "id": "6b15c977",
   "metadata": {},
   "source": [
    "Nesta parte do trabalho foi nos pedido para verificar os seguintes invariantes:\n",
    "\n",
    "1. Nunca se alcança o estado de erro;\n",
    "2. Nenhuma célula normal está permanentemente morta ou permanentemente viva."
   ]
  },
  {
   "cell_type": "markdown",
   "id": "430bed9b",
   "metadata": {},
   "source": [
    "# Primeiro invariante"
   ]
  },
  {
   "cell_type": "markdown",
   "id": "19eda687",
   "metadata": {},
   "source": [
    "O estado de erro é identificado quando num estado todas as células normais da matriz encontram-se mortas, ou seja, que o valor associado a qualquer célula normal é 0.\n",
    "\n",
    "A função **bmc_always** recebe um invariante **inv** e um número **K** de estados, e imprime um autómato com o qual o invariante definido pela função **erros** não seja satisfazível.\n",
    "\n",
    "Se o invariante é satisfeito, então imprime para que número de estados o invariante satisfez (K)."
   ]
  },
  {
   "cell_type": "code",
   "execution_count": 7,
   "id": "aba62ed9",
   "metadata": {},
   "outputs": [],
   "source": [
    "def bmc_always(inv,K):\n",
    "    \n",
    "    # K é o tamanho do traço\n",
    "    # inv = invariante, tem de ser verdadeiro para qualquer estado\n",
    "        \n",
    "    with Solver() as solver:\n",
    "        states = [declare(i) for i in range(K+1)] # declarar estados\n",
    "        solver.add_assertion(init(states[0])) # satisfazer a inicialização do primeiro estado\n",
    "        \n",
    "\n",
    "        for k in range(K):\n",
    "            if k>0:\n",
    "                solver.add_assertion(trans(states[k-1],states[k]))\n",
    "\n",
    "            solver.push()\n",
    "            solver.add_assertion(Not(inv(states[k]))) # ver se o invariante nao satisfaz no estado k \n",
    "           # print(not(inv(states[k])))\n",
    "\n",
    "            if solver.solve(): # inv nao satisfaz\n",
    "                print(f\">Nonerror case does not holds for {k+1} first states. \\nCounter-example:\")\n",
    "                for i,s in enumerate(states[:k+1]):\n",
    "                    print(f\">State  {i}:\")\n",
    "                    res=\"\"\n",
    "                    for m in range(N+1):\n",
    "                        res+=(\"\\n\")\n",
    "                        for n in range(N+1):\n",
    "                            if str(solver.get_value(states[i][f'c{m},{n}']))==\"0\":\n",
    "                                res+=\"⬜\"\n",
    "                            if str(solver.get_value(states[i][f'c{m},{n}']))==\"1\":\n",
    "                                res+=\"⬛\"\n",
    "                    print(res)\n",
    "                return\n",
    "            else: #inv satisfaz (assertion not(inv(states[k]))) falhou porque inv satisfez\n",
    "                if k==K-1:\n",
    "                    print(f\">Nonerror case holds for {K} first states.\\n\")\n",
    "\n",
    "            solver.pop()"
   ]
  },
  {
   "cell_type": "markdown",
   "id": "79a16ef0",
   "metadata": {},
   "source": [
    "### `erros`\n",
    "\n",
    "**state** - matriz de células de um certo estado.\n",
    "\n",
    "Aqui constrói-se a condição de invariante seguinte:\n",
    "\n",
    "$$\\text{Not}(c(1,1) = 0 \\wedge c(1,2) = 0 \\wedge \\text{...} \\wedge c(N,N-1) = 0 \\wedge c(N,N) = 0)$$\n",
    "\n",
    "**Nota**: Células de borda não se contemplam em nenhum dos invariantes."
   ]
  },
  {
   "cell_type": "code",
   "execution_count": 8,
   "id": "8b7303ae",
   "metadata": {},
   "outputs": [
    {
     "name": "stdout",
     "output_type": "stream",
     "text": [
      ">Nonerror case holds for 100 first states.\n",
      "\n"
     ]
    }
   ],
   "source": [
    "def erros(state):\n",
    "    result=[]\n",
    "    for i in range(1,N+1):\n",
    "        for j in range(1,N+1):\n",
    "            result.append(Equals(state[f'c{i},{j}'],Int(0)))\n",
    "   # print(Not(And(result)))\n",
    "    return Not(And(result))\n",
    "\n",
    "#Exemplo\n",
    "N=10\n",
    "bmc_always(erros,100)"
   ]
  },
  {
   "cell_type": "markdown",
   "id": "83cdfb62",
   "metadata": {},
   "source": [
    "# Segundo invariante"
   ]
  },
  {
   "cell_type": "markdown",
   "id": "bfe6ab9c",
   "metadata": {},
   "source": [
    "Por fim, o segundo invariante verifica-se se, durante todos os estados, cada uma das células que começam vivas (respetivamente mortas) eventualmente num estado futuro ficam mortas (respetivamente vivas).\n",
    "\n",
    "A função **bmc_eventually** recebe as funções anteriormente definidas (`declare`,`init` e `trans`), assim como o argumento **prop** que vai ser onde o segundo invariante entra, e o argumento **bound** que indica o número de estado a ser testados.\n",
    "\n",
    "No que toca ao que devolve, a **bmc_eventually** tem um comportamento análogo ao da **bmc_always**"
   ]
  },
  {
   "cell_type": "code",
   "execution_count": 9,
   "id": "4798d30b",
   "metadata": {},
   "outputs": [],
   "source": [
    "def bmc_eventually(declare,init,trans,prop,bound):\n",
    "    \n",
    "    with Solver() as solver:\n",
    "        states = [declare(i) for i in range(bound)] # declarar estados\n",
    "        solver.add_assertion(init(states[0])) # satisfazer a inicialização do primeiro estado\n",
    "        \n",
    "        for k in range(bound):\n",
    "            if k>0:\n",
    "                solver.add_assertion(trans(states[k-1],states[k]))\n",
    "                \n",
    "        solver.add_assertion(Not(prop(states,bound)))\n",
    "\n",
    "        if solver.solve(): # inv nao satisfaz\n",
    "            print(f\">Invariant does not stand for {bound} states \\nCounter-example:\")\n",
    "            for i,s in enumerate(states):\n",
    "                print(f\">State  {i}:\")\n",
    "                res=\"\"\n",
    "                for m in range(N+1):\n",
    "                    res+=(\"\\n\")\n",
    "                    for n in range(N+1):\n",
    "                        if str(solver.get_value(states[i][f'c{m},{n}']))==\"0\":\n",
    "                            res+=\"⬜\"\n",
    "                        if str(solver.get_value(states[i][f'c{m},{n}']))==\"1\":\n",
    "                            res+=\"⬛\"\n",
    "                print(res)\n",
    "            return\n",
    "        else: #inv satisfaz (assertion not(inv(states[k]))) falhou porque inv satisfez\n",
    "            print(f\">Nonerror case holds for {bound} first states.\\n\")\n",
    "            "
   ]
  },
  {
   "cell_type": "markdown",
   "id": "f1de01fa",
   "metadata": {},
   "source": [
    "### `eventually_liveordead`\n",
    "\n",
    "**states** - lista de **K** estados\n",
    "\n",
    "Aqui constrói-se a condição de invariante seguinte:\n",
    "\n",
    "$$((\\sum_{k<K}estado[k][c(1,1)])\\ne K \\wedge (\\sum_{k<K}estado[k][c(1,1)]) \\ne 0)$$\n",
    "$$\\wedge$$\n",
    "$$\\text{...}$$\n",
    "$$\\wedge$$\n",
    "$$((\\sum_{k<K}estado[k][c(N,N)])\\ne K \\wedge (\\sum_{k<K}estado[k][c(N,N)]) \\ne 0)$$"
   ]
  },
  {
   "cell_type": "code",
   "execution_count": 39,
   "id": "c1e927a3",
   "metadata": {},
   "outputs": [
    {
     "name": "stdout",
     "output_type": "stream",
     "text": [
      ">Nonerror case holds for 10 first states.\n",
      "\n"
     ]
    }
   ],
   "source": [
    "def eventually_liveordead(states,K):\n",
    "    list=[]\n",
    "    for i in range(1,N+1):\n",
    "        for j in range(1,N+1):\n",
    "            list.append(And(Not(Equals(sum([states[k][f'c{i},{j}'] for k in range(K)]),Int(K))),\n",
    "                            Not(Equals(sum([states[k][f'c{i},{j}'] for k in range(K)]),Int(0)))))\n",
    "    return And(list)\n",
    "\n",
    "#Exemplo                             \n",
    "N=4\n",
    "bmc_eventually(declare,init,trans,eventually_liveordead,10)"
   ]
  },
  {
   "cell_type": "code",
   "execution_count": null,
   "id": "201ac976",
   "metadata": {},
   "outputs": [],
   "source": []
  }
 ],
 "metadata": {
  "kernelspec": {
   "display_name": "Python 3 (ipykernel)",
   "language": "python",
   "name": "python3"
  },
  "language_info": {
   "codemirror_mode": {
    "name": "ipython",
    "version": 3
   },
   "file_extension": ".py",
   "mimetype": "text/x-python",
   "name": "python",
   "nbconvert_exporter": "python",
   "pygments_lexer": "ipython3",
   "version": "3.11.5"
  }
 },
 "nbformat": 4,
 "nbformat_minor": 5
}
